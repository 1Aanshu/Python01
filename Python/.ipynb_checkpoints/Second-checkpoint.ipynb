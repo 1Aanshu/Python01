{
 "cells": [
  {
   "cell_type": "code",
   "execution_count": 1,
   "id": "convenient-venture",
   "metadata": {},
   "outputs": [
    {
     "name": "stdout",
     "output_type": "stream",
     "text": [
      "hello My name is Aanshu Dwiwedi\n"
     ]
    }
   ],
   "source": [
    "print(\"hello My name is Aanshu Dwiwedi\")"
   ]
  },
  {
   "cell_type": "markdown",
   "id": "federal-option",
   "metadata": {},
   "source": [
    "# variables in python"
   ]
  },
  {
   "cell_type": "code",
   "execution_count": 2,
   "id": "smooth-manufacturer",
   "metadata": {},
   "outputs": [],
   "source": [
    "# name_of_variable = value"
   ]
  },
  {
   "cell_type": "code",
   "execution_count": 6,
   "id": "earned-editor",
   "metadata": {},
   "outputs": [
    {
     "name": "stdout",
     "output_type": "stream",
     "text": [
      "123\n",
      "123.456\n",
      "True\n",
      "False\n",
      "Aanshu Dwiwedi\n"
     ]
    }
   ],
   "source": [
    "var1 = None\n",
    "\n",
    "var1 = 123\n",
    "print(var1)\n",
    "\n",
    "var1 = 123.456\n",
    "print(var1)\n",
    "\n",
    "var1 = True\n",
    "print(var1)\n",
    "\n",
    "var1 = False\n",
    "print(var1)\n",
    "\n",
    "var1 = \"Aanshu Dwiwedi\"\n",
    "print(var1)"
   ]
  },
  {
   "cell_type": "markdown",
   "id": "suitable-delaware",
   "metadata": {},
   "source": [
    "# Basic IO"
   ]
  },
  {
   "cell_type": "code",
   "execution_count": 9,
   "id": "auburn-behavior",
   "metadata": {},
   "outputs": [
    {
     "name": "stdout",
     "output_type": "stream",
     "text": [
      "Enter any value : aanshu\n",
      "aanshu\n",
      "value = aanshu\n"
     ]
    }
   ],
   "source": [
    "var1 = input(\"Enter any value : \")# Input\n",
    "print(var1)# Output\n",
    "print(\"value =\", var1)#output"
   ]
  },
  {
   "cell_type": "code",
   "execution_count": 2,
   "id": "acting-production",
   "metadata": {},
   "outputs": [
    {
     "name": "stdout",
     "output_type": "stream",
     "text": [
      "Enter number : 3\n",
      "Enter number : 4\n",
      "7\n"
     ]
    }
   ],
   "source": [
    "var1 = int(input(\"Enter number : \"))\n",
    "var2 = int(input(\"Enter number : \"))\n",
    "print(var1 + var2)"
   ]
  },
  {
   "cell_type": "code",
   "execution_count": 4,
   "id": "expressed-chance",
   "metadata": {},
   "outputs": [
    {
     "name": "stdout",
     "output_type": "stream",
     "text": [
      "Enter numebr : 2\n",
      "Enter number : 3\n",
      "0.6666666666666666\n"
     ]
    }
   ],
   "source": [
    "a = int(input(\"Enter numebr : \"))\n",
    "b = int(input(\"Enter number : \"))\n",
    "c = float(a/b)\n",
    "print(c)"
   ]
  },
  {
   "cell_type": "code",
   "execution_count": 8,
   "id": "proprietary-columbia",
   "metadata": {},
   "outputs": [
    {
     "name": "stdout",
     "output_type": "stream",
     "text": [
      "Enter numebr : 3\n",
      "Enter number : 2\n",
      "1.0\n"
     ]
    }
   ],
   "source": [
    "a = int(input(\"Enter numebr : \"))\n",
    "b = int(input(\"Enter number : \"))\n",
    "c = float(a%b)\n",
    "print(c)"
   ]
  },
  {
   "cell_type": "code",
   "execution_count": 11,
   "id": "lined-height",
   "metadata": {},
   "outputs": [
    {
     "name": "stdout",
     "output_type": "stream",
     "text": [
      "Enter numebr : 3\n",
      "Enter number : 2\n",
      "1\n"
     ]
    }
   ],
   "source": [
    "a = int(input(\"Enter numebr : \"))\n",
    "b = int(input(\"Enter number : \"))\n",
    "c = int(a//b)\n",
    "print(c)"
   ]
  },
  {
   "cell_type": "code",
   "execution_count": 13,
   "id": "charitable-fundamental",
   "metadata": {},
   "outputs": [
    {
     "name": "stdout",
     "output_type": "stream",
     "text": [
      "Enter number : 200\n",
      "Enter number : 33\n",
      "a is greater than b\n"
     ]
    }
   ],
   "source": [
    "a = int(input(\"Enter number : \"))\n",
    "b = int(input(\"Enter number : \"))\n",
    "\n",
    "if b > a:\n",
    "  print(\"b is greater than a\")\n",
    "else:\n",
    "  print(\"a is greater than b\")"
   ]
  },
  {
   "cell_type": "markdown",
   "id": "southeast-swimming",
   "metadata": {},
   "source": [
    "#### data types - int,float,boolean,string"
   ]
  },
  {
   "cell_type": "code",
   "execution_count": 22,
   "id": "optimum-manual",
   "metadata": {},
   "outputs": [
    {
     "name": "stdout",
     "output_type": "stream",
     "text": [
      "<class 'str'>\n",
      "<class 'int'>\n",
      "<class 'float'>\n",
      "<class 'bool'>\n",
      "Integer\n",
      "Integer\n",
      "Float\n",
      "Boolean\n"
     ]
    }
   ],
   "source": [
    "# string to int, float, boolean\n",
    "str1 = \"12345\"\n",
    "print(type(str1))\n",
    "\n",
    "num1 = int(str1)\n",
    "print(type(num1))\n",
    "\n",
    "num2 = float(str1)\n",
    "print(type(num2))\n",
    "\n",
    "res = bool(\"True\")# \"True\" \"False\"\n",
    "print(type(res))\n",
    "\n",
    "if(isinstance(num1, int)):\n",
    "    print(\"Integer\")\n",
    "    \n",
    "if(isinstance(num2, int)):\n",
    "    print(\"Integer\")\n",
    "    \n",
    "if(isinstance(res, int)):\n",
    "    print(\"Integer\")\n",
    "    \n",
    "if(isinstance(num1, float)):\n",
    "    print(\"Float\")\n",
    "    \n",
    "if(isinstance(num2, float)):\n",
    "    print(\"Float\")\n",
    "    \n",
    "if(isinstance(res, float)):\n",
    "    print(\"Float\")\n",
    "    \n",
    "if(isinstance(num1, bool)):\n",
    "    print(\"Boolean\")\n",
    "    \n",
    "if(isinstance(num2, bool)):\n",
    "    print(\"Boolean\")\n",
    "    \n",
    "if(isinstance(res, bool)):\n",
    "    print(\"Boolean\")\n",
    "    \n",
    "if(isinstance(num1, str)):\n",
    "    print(\"String\")\n",
    "    \n",
    "if(isinstance(num2, str)):\n",
    "    print(\"String\")\n",
    "    \n",
    "if(isinstance(res, str)):\n",
    "    print(\"String\")\n",
    "    "
   ]
  },
  {
   "cell_type": "code",
   "execution_count": 19,
   "id": "lined-vertical",
   "metadata": {},
   "outputs": [
    {
     "name": "stdout",
     "output_type": "stream",
     "text": [
      "<class 'str'>\n"
     ]
    },
    {
     "ename": "ValueError",
     "evalue": "invalid literal for int() with base 10: '12345a'",
     "output_type": "error",
     "traceback": [
      "\u001b[1;31m---------------------------------------------------------------------------\u001b[0m",
      "\u001b[1;31mValueError\u001b[0m                                Traceback (most recent call last)",
      "\u001b[1;32m<ipython-input-19-9722dc437f80>\u001b[0m in \u001b[0;36m<module>\u001b[1;34m\u001b[0m\n\u001b[0;32m      2\u001b[0m \u001b[0mprint\u001b[0m\u001b[1;33m(\u001b[0m\u001b[0mtype\u001b[0m\u001b[1;33m(\u001b[0m\u001b[0mstr1\u001b[0m\u001b[1;33m)\u001b[0m\u001b[1;33m)\u001b[0m\u001b[1;33m\u001b[0m\u001b[1;33m\u001b[0m\u001b[0m\n\u001b[0;32m      3\u001b[0m \u001b[1;33m\u001b[0m\u001b[0m\n\u001b[1;32m----> 4\u001b[1;33m \u001b[0mnum1\u001b[0m \u001b[1;33m=\u001b[0m \u001b[0mint\u001b[0m\u001b[1;33m(\u001b[0m\u001b[0mstr1\u001b[0m\u001b[1;33m)\u001b[0m\u001b[1;33m\u001b[0m\u001b[1;33m\u001b[0m\u001b[0m\n\u001b[0m\u001b[0;32m      5\u001b[0m \u001b[0mprint\u001b[0m\u001b[1;33m(\u001b[0m\u001b[0mtype\u001b[0m\u001b[1;33m(\u001b[0m\u001b[0mnum1\u001b[0m\u001b[1;33m)\u001b[0m\u001b[1;33m)\u001b[0m\u001b[1;33m\u001b[0m\u001b[1;33m\u001b[0m\u001b[0m\n\u001b[0;32m      6\u001b[0m \u001b[1;33m\u001b[0m\u001b[0m\n",
      "\u001b[1;31mValueError\u001b[0m: invalid literal for int() with base 10: '12345a'"
     ]
    }
   ],
   "source": [
    "str1 = \"12345a\"\n",
    "print(type(str1))\n",
    "\n",
    "num1 = int(str1)\n",
    "print(type(num1))\n",
    "\n",
    "num2 = float(str1)\n",
    "print(type(num2))\n",
    "\n",
    "res = bool(\"True\")# \"True\" \"False\"\n",
    "print(type(res))"
   ]
  },
  {
   "cell_type": "code",
   "execution_count": 20,
   "id": "mental-indonesia",
   "metadata": {},
   "outputs": [
    {
     "name": "stdout",
     "output_type": "stream",
     "text": [
      "<class 'str'>\n",
      "<class 'int'>\n",
      "<class 'float'>\n",
      "<class 'bool'>\n"
     ]
    }
   ],
   "source": [
    "str1 = \"12345\"\n",
    "print(type(str1))\n",
    "\n",
    "num1 = int(str1)\n",
    "print(type(num1))\n",
    "\n",
    "str1 = \"12345.46\"\n",
    "num2 = float(str1)\n",
    "print(type(num2))\n",
    "\n",
    "res = bool(\"True\")# \"True\" \"False\"\n",
    "print(type(res))"
   ]
  },
  {
   "cell_type": "code",
   "execution_count": 25,
   "id": "indian-turner",
   "metadata": {},
   "outputs": [
    {
     "name": "stdout",
     "output_type": "stream",
     "text": [
      "<class 'int'>\n",
      "<class 'str'>\n",
      "\n",
      "<class 'float'>\n",
      "<class 'str'>\n",
      "\n",
      "<class 'bool'>\n",
      "<class 'str'>\n",
      "string\n"
     ]
    }
   ],
   "source": [
    "#int , float , boolean to string\n",
    "num1 = 3456\n",
    "num2 = 456.789\n",
    "res = True\n",
    "\n",
    "str1 = str(num1)\n",
    "print(type(num1))\n",
    "print(type(str1))\n",
    "print()\n",
    "\n",
    "str2 = str(num2)\n",
    "print(type(num2))\n",
    "print(type(str2))\n",
    "print()\n",
    "\n",
    "str3 = str(res)\n",
    "print(type(res))\n",
    "print(type(str3))\n",
    "\n",
    "if(isinstance(str1, str)):\n",
    "    print(\"string\")"
   ]
  },
  {
   "cell_type": "code",
   "execution_count": 28,
   "id": "regulation-jersey",
   "metadata": {},
   "outputs": [
    {
     "name": "stdout",
     "output_type": "stream",
     "text": [
      "<class 'int'>\n",
      "<class 'float'>\n"
     ]
    }
   ],
   "source": [
    "# int to float\n",
    "num1 = 345\n",
    "num2 = float(num1)\n",
    "print(type(num1))\n",
    "print(type(num2))"
   ]
  },
  {
   "cell_type": "code",
   "execution_count": 27,
   "id": "prompt-bailey",
   "metadata": {},
   "outputs": [
    {
     "name": "stdout",
     "output_type": "stream",
     "text": [
      "<class 'float'>\n",
      "<class 'int'>\n"
     ]
    }
   ],
   "source": [
    "num1 = 345.678\n",
    "num2 = int(num1)\n",
    "print(type(num1))\n",
    "print(type(num2))"
   ]
  },
  {
   "cell_type": "code",
   "execution_count": 30,
   "id": "confused-frame",
   "metadata": {},
   "outputs": [
    {
     "name": "stdout",
     "output_type": "stream",
     "text": [
      "456.79\n"
     ]
    }
   ],
   "source": [
    "# task - Rounding the digits after decimal place\n",
    "num1 = 456.789123\n",
    "#456.79 #Rounding after decimal place\n",
    "print(round(num1, 2))\n"
   ]
  },
  {
   "cell_type": "code",
   "execution_count": 32,
   "id": "sensitive-example",
   "metadata": {},
   "outputs": [
    {
     "name": "stdout",
     "output_type": "stream",
     "text": [
      "1279\n",
      "1189\n",
      "55530\n",
      "27.42222222222222\n",
      "27\n",
      "19\n",
      "12858259503317138993032060663115227698767697321022453511734361104006218632821822420757738016896992940685125968028282734964633411368542797824\n"
     ]
    }
   ],
   "source": [
    "# Operators\n",
    "# 1. Arithmetic Operators\n",
    "num1 = 1234\n",
    "num2 = 45\n",
    "num3 = num1+num2\n",
    "print(num3)\n",
    "\n",
    "num3 = num1-num2\n",
    "print(num3)\n",
    "\n",
    "num3 = num1 * num2\n",
    "print(num3)\n",
    "\n",
    "num3 = num1 /num2 # floating point division\n",
    "print(num3)\n",
    "\n",
    "num3 = num1//num2 #integer division\n",
    "print(num3)\n",
    "\n",
    "num3 = num1 % num2 # Rem/Mod\n",
    "print(num3)\n",
    "\n",
    "num3 = num1**num2 #Power (num1 power num2)\n",
    "print(num3)"
   ]
  },
  {
   "cell_type": "code",
   "execution_count": 2,
   "id": "virgin-cambridge",
   "metadata": {},
   "outputs": [],
   "source": [
    "import math"
   ]
  },
  {
   "cell_type": "code",
   "execution_count": 34,
   "id": "swedish-gates",
   "metadata": {},
   "outputs": [
    {
     "data": {
      "text/plain": [
       "['__doc__',\n",
       " '__loader__',\n",
       " '__name__',\n",
       " '__package__',\n",
       " '__spec__',\n",
       " 'acos',\n",
       " 'acosh',\n",
       " 'asin',\n",
       " 'asinh',\n",
       " 'atan',\n",
       " 'atan2',\n",
       " 'atanh',\n",
       " 'ceil',\n",
       " 'comb',\n",
       " 'copysign',\n",
       " 'cos',\n",
       " 'cosh',\n",
       " 'degrees',\n",
       " 'dist',\n",
       " 'e',\n",
       " 'erf',\n",
       " 'erfc',\n",
       " 'exp',\n",
       " 'expm1',\n",
       " 'fabs',\n",
       " 'factorial',\n",
       " 'floor',\n",
       " 'fmod',\n",
       " 'frexp',\n",
       " 'fsum',\n",
       " 'gamma',\n",
       " 'gcd',\n",
       " 'hypot',\n",
       " 'inf',\n",
       " 'isclose',\n",
       " 'isfinite',\n",
       " 'isinf',\n",
       " 'isnan',\n",
       " 'isqrt',\n",
       " 'ldexp',\n",
       " 'lgamma',\n",
       " 'log',\n",
       " 'log10',\n",
       " 'log1p',\n",
       " 'log2',\n",
       " 'modf',\n",
       " 'nan',\n",
       " 'perm',\n",
       " 'pi',\n",
       " 'pow',\n",
       " 'prod',\n",
       " 'radians',\n",
       " 'remainder',\n",
       " 'sin',\n",
       " 'sinh',\n",
       " 'sqrt',\n",
       " 'tan',\n",
       " 'tanh',\n",
       " 'tau',\n",
       " 'trunc']"
      ]
     },
     "execution_count": 34,
     "metadata": {},
     "output_type": "execute_result"
    }
   ],
   "source": [
    "dir(math)"
   ]
  },
  {
   "cell_type": "code",
   "execution_count": 35,
   "id": "understanding-burke",
   "metadata": {},
   "outputs": [
    {
     "name": "stdout",
     "output_type": "stream",
     "text": [
      "Help on built-in module math:\n",
      "\n",
      "NAME\n",
      "    math\n",
      "\n",
      "DESCRIPTION\n",
      "    This module provides access to the mathematical functions\n",
      "    defined by the C standard.\n",
      "\n",
      "FUNCTIONS\n",
      "    acos(x, /)\n",
      "        Return the arc cosine (measured in radians) of x.\n",
      "    \n",
      "    acosh(x, /)\n",
      "        Return the inverse hyperbolic cosine of x.\n",
      "    \n",
      "    asin(x, /)\n",
      "        Return the arc sine (measured in radians) of x.\n",
      "    \n",
      "    asinh(x, /)\n",
      "        Return the inverse hyperbolic sine of x.\n",
      "    \n",
      "    atan(x, /)\n",
      "        Return the arc tangent (measured in radians) of x.\n",
      "    \n",
      "    atan2(y, x, /)\n",
      "        Return the arc tangent (measured in radians) of y/x.\n",
      "        \n",
      "        Unlike atan(y/x), the signs of both x and y are considered.\n",
      "    \n",
      "    atanh(x, /)\n",
      "        Return the inverse hyperbolic tangent of x.\n",
      "    \n",
      "    ceil(x, /)\n",
      "        Return the ceiling of x as an Integral.\n",
      "        \n",
      "        This is the smallest integer >= x.\n",
      "    \n",
      "    comb(n, k, /)\n",
      "        Number of ways to choose k items from n items without repetition and without order.\n",
      "        \n",
      "        Evaluates to n! / (k! * (n - k)!) when k <= n and evaluates\n",
      "        to zero when k > n.\n",
      "        \n",
      "        Also called the binomial coefficient because it is equivalent\n",
      "        to the coefficient of k-th term in polynomial expansion of the\n",
      "        expression (1 + x)**n.\n",
      "        \n",
      "        Raises TypeError if either of the arguments are not integers.\n",
      "        Raises ValueError if either of the arguments are negative.\n",
      "    \n",
      "    copysign(x, y, /)\n",
      "        Return a float with the magnitude (absolute value) of x but the sign of y.\n",
      "        \n",
      "        On platforms that support signed zeros, copysign(1.0, -0.0)\n",
      "        returns -1.0.\n",
      "    \n",
      "    cos(x, /)\n",
      "        Return the cosine of x (measured in radians).\n",
      "    \n",
      "    cosh(x, /)\n",
      "        Return the hyperbolic cosine of x.\n",
      "    \n",
      "    degrees(x, /)\n",
      "        Convert angle x from radians to degrees.\n",
      "    \n",
      "    dist(p, q, /)\n",
      "        Return the Euclidean distance between two points p and q.\n",
      "        \n",
      "        The points should be specified as sequences (or iterables) of\n",
      "        coordinates.  Both inputs must have the same dimension.\n",
      "        \n",
      "        Roughly equivalent to:\n",
      "            sqrt(sum((px - qx) ** 2.0 for px, qx in zip(p, q)))\n",
      "    \n",
      "    erf(x, /)\n",
      "        Error function at x.\n",
      "    \n",
      "    erfc(x, /)\n",
      "        Complementary error function at x.\n",
      "    \n",
      "    exp(x, /)\n",
      "        Return e raised to the power of x.\n",
      "    \n",
      "    expm1(x, /)\n",
      "        Return exp(x)-1.\n",
      "        \n",
      "        This function avoids the loss of precision involved in the direct evaluation of exp(x)-1 for small x.\n",
      "    \n",
      "    fabs(x, /)\n",
      "        Return the absolute value of the float x.\n",
      "    \n",
      "    factorial(x, /)\n",
      "        Find x!.\n",
      "        \n",
      "        Raise a ValueError if x is negative or non-integral.\n",
      "    \n",
      "    floor(x, /)\n",
      "        Return the floor of x as an Integral.\n",
      "        \n",
      "        This is the largest integer <= x.\n",
      "    \n",
      "    fmod(x, y, /)\n",
      "        Return fmod(x, y), according to platform C.\n",
      "        \n",
      "        x % y may differ.\n",
      "    \n",
      "    frexp(x, /)\n",
      "        Return the mantissa and exponent of x, as pair (m, e).\n",
      "        \n",
      "        m is a float and e is an int, such that x = m * 2.**e.\n",
      "        If x is 0, m and e are both 0.  Else 0.5 <= abs(m) < 1.0.\n",
      "    \n",
      "    fsum(seq, /)\n",
      "        Return an accurate floating point sum of values in the iterable seq.\n",
      "        \n",
      "        Assumes IEEE-754 floating point arithmetic.\n",
      "    \n",
      "    gamma(x, /)\n",
      "        Gamma function at x.\n",
      "    \n",
      "    gcd(x, y, /)\n",
      "        greatest common divisor of x and y\n",
      "    \n",
      "    hypot(...)\n",
      "        hypot(*coordinates) -> value\n",
      "        \n",
      "        Multidimensional Euclidean distance from the origin to a point.\n",
      "        \n",
      "        Roughly equivalent to:\n",
      "            sqrt(sum(x**2 for x in coordinates))\n",
      "        \n",
      "        For a two dimensional point (x, y), gives the hypotenuse\n",
      "        using the Pythagorean theorem:  sqrt(x*x + y*y).\n",
      "        \n",
      "        For example, the hypotenuse of a 3/4/5 right triangle is:\n",
      "        \n",
      "            >>> hypot(3.0, 4.0)\n",
      "            5.0\n",
      "    \n",
      "    isclose(a, b, *, rel_tol=1e-09, abs_tol=0.0)\n",
      "        Determine whether two floating point numbers are close in value.\n",
      "        \n",
      "          rel_tol\n",
      "            maximum difference for being considered \"close\", relative to the\n",
      "            magnitude of the input values\n",
      "          abs_tol\n",
      "            maximum difference for being considered \"close\", regardless of the\n",
      "            magnitude of the input values\n",
      "        \n",
      "        Return True if a is close in value to b, and False otherwise.\n",
      "        \n",
      "        For the values to be considered close, the difference between them\n",
      "        must be smaller than at least one of the tolerances.\n",
      "        \n",
      "        -inf, inf and NaN behave similarly to the IEEE 754 Standard.  That\n",
      "        is, NaN is not close to anything, even itself.  inf and -inf are\n",
      "        only close to themselves.\n",
      "    \n",
      "    isfinite(x, /)\n",
      "        Return True if x is neither an infinity nor a NaN, and False otherwise.\n",
      "    \n",
      "    isinf(x, /)\n",
      "        Return True if x is a positive or negative infinity, and False otherwise.\n",
      "    \n",
      "    isnan(x, /)\n",
      "        Return True if x is a NaN (not a number), and False otherwise.\n",
      "    \n",
      "    isqrt(n, /)\n",
      "        Return the integer part of the square root of the input.\n",
      "    \n",
      "    ldexp(x, i, /)\n",
      "        Return x * (2**i).\n",
      "        \n",
      "        This is essentially the inverse of frexp().\n",
      "    \n",
      "    lgamma(x, /)\n",
      "        Natural logarithm of absolute value of Gamma function at x.\n",
      "    \n",
      "    log(...)\n",
      "        log(x, [base=math.e])\n",
      "        Return the logarithm of x to the given base.\n",
      "        \n",
      "        If the base not specified, returns the natural logarithm (base e) of x.\n",
      "    \n",
      "    log10(x, /)\n",
      "        Return the base 10 logarithm of x.\n",
      "    \n",
      "    log1p(x, /)\n",
      "        Return the natural logarithm of 1+x (base e).\n",
      "        \n",
      "        The result is computed in a way which is accurate for x near zero.\n",
      "    \n",
      "    log2(x, /)\n",
      "        Return the base 2 logarithm of x.\n",
      "    \n",
      "    modf(x, /)\n",
      "        Return the fractional and integer parts of x.\n",
      "        \n",
      "        Both results carry the sign of x and are floats.\n",
      "    \n",
      "    perm(n, k=None, /)\n",
      "        Number of ways to choose k items from n items without repetition and with order.\n",
      "        \n",
      "        Evaluates to n! / (n - k)! when k <= n and evaluates\n",
      "        to zero when k > n.\n",
      "        \n",
      "        If k is not specified or is None, then k defaults to n\n",
      "        and the function returns n!.\n",
      "        \n",
      "        Raises TypeError if either of the arguments are not integers.\n",
      "        Raises ValueError if either of the arguments are negative.\n",
      "    \n",
      "    pow(x, y, /)\n",
      "        Return x**y (x to the power of y).\n",
      "    \n",
      "    prod(iterable, /, *, start=1)\n",
      "        Calculate the product of all the elements in the input iterable.\n",
      "        \n",
      "        The default start value for the product is 1.\n",
      "        \n",
      "        When the iterable is empty, return the start value.  This function is\n",
      "        intended specifically for use with numeric values and may reject\n",
      "        non-numeric types.\n",
      "    \n",
      "    radians(x, /)\n",
      "        Convert angle x from degrees to radians.\n",
      "    \n",
      "    remainder(x, y, /)\n",
      "        Difference between x and the closest integer multiple of y.\n",
      "        \n",
      "        Return x - n*y where n*y is the closest integer multiple of y.\n",
      "        In the case where x is exactly halfway between two multiples of\n",
      "        y, the nearest even value of n is used. The result is always exact.\n",
      "    \n",
      "    sin(x, /)\n",
      "        Return the sine of x (measured in radians).\n",
      "    \n",
      "    sinh(x, /)\n",
      "        Return the hyperbolic sine of x.\n",
      "    \n",
      "    sqrt(x, /)\n",
      "        Return the square root of x.\n",
      "    \n",
      "    tan(x, /)\n",
      "        Return the tangent of x (measured in radians).\n",
      "    \n",
      "    tanh(x, /)\n",
      "        Return the hyperbolic tangent of x.\n",
      "    \n",
      "    trunc(x, /)\n",
      "        Truncates the Real x to the nearest Integral toward 0.\n",
      "        \n",
      "        Uses the __trunc__ magic method.\n",
      "\n",
      "DATA\n",
      "    e = 2.718281828459045\n",
      "    inf = inf\n",
      "    nan = nan\n",
      "    pi = 3.141592653589793\n",
      "    tau = 6.283185307179586\n",
      "\n",
      "FILE\n",
      "    (built-in)\n",
      "\n",
      "\n",
      "None\n"
     ]
    }
   ],
   "source": [
    "print(help(math))"
   ]
  },
  {
   "cell_type": "code",
   "execution_count": 3,
   "id": "authentic-colorado",
   "metadata": {},
   "outputs": [
    {
     "name": "stdout",
     "output_type": "stream",
     "text": [
      "120\n"
     ]
    }
   ],
   "source": [
    "print(math.factorial(5))"
   ]
  },
  {
   "cell_type": "code",
   "execution_count": 4,
   "id": "filled-learning",
   "metadata": {},
   "outputs": [
    {
     "name": "stdout",
     "output_type": "stream",
     "text": [
      "1234\n"
     ]
    }
   ],
   "source": [
    "num1 = math.floor(1234.456)\n",
    "print(num1)"
   ]
  },
  {
   "cell_type": "code",
   "execution_count": 6,
   "id": "broke-walker",
   "metadata": {},
   "outputs": [
    {
     "name": "stdout",
     "output_type": "stream",
     "text": [
      "92.35210000000001\n"
     ]
    }
   ],
   "source": [
    "print(math.pow(3.1,4))"
   ]
  },
  {
   "cell_type": "code",
   "execution_count": 7,
   "id": "recovered-worth",
   "metadata": {},
   "outputs": [
    {
     "name": "stdout",
     "output_type": "stream",
     "text": [
      "14.0\n"
     ]
    }
   ],
   "source": [
    "print(math.sqrt(196))"
   ]
  },
  {
   "cell_type": "code",
   "execution_count": 8,
   "id": "civilian-banking",
   "metadata": {},
   "outputs": [
    {
     "name": "stdout",
     "output_type": "stream",
     "text": [
      "3.141592653589793\n"
     ]
    }
   ],
   "source": [
    "print(math.pi)"
   ]
  },
  {
   "cell_type": "code",
   "execution_count": 1,
   "id": "saving-mapping",
   "metadata": {},
   "outputs": [
    {
     "name": "stdout",
     "output_type": "stream",
     "text": [
      "<class 'bool'>\n",
      "<class 'int'>\n",
      "<class 'float'>\n",
      "<class 'complex'>\n",
      "\n",
      "<class 'list'>\n",
      "[5, 6, 7, 8, 9]\n",
      "5\n",
      "7\n",
      "5\n"
     ]
    },
    {
     "ename": "IndexError",
     "evalue": "list index out of range",
     "output_type": "error",
     "traceback": [
      "\u001b[1;31m---------------------------------------------------------------------------\u001b[0m",
      "\u001b[1;31mIndexError\u001b[0m                                Traceback (most recent call last)",
      "\u001b[1;32m<ipython-input-1-a9733b11d539>\u001b[0m in \u001b[0;36m<module>\u001b[1;34m\u001b[0m\n\u001b[0;32m     28\u001b[0m \u001b[1;33m\u001b[0m\u001b[0m\n\u001b[0;32m     29\u001b[0m \u001b[0mprint\u001b[0m\u001b[1;33m(\u001b[0m\u001b[0mvar1\u001b[0m\u001b[1;33m[\u001b[0m\u001b[1;33m-\u001b[0m\u001b[1;36m5\u001b[0m\u001b[1;33m]\u001b[0m\u001b[1;33m)\u001b[0m\u001b[1;33m\u001b[0m\u001b[1;33m\u001b[0m\u001b[0m\n\u001b[1;32m---> 30\u001b[1;33m \u001b[0mprint\u001b[0m\u001b[1;33m(\u001b[0m\u001b[0mvar1\u001b[0m\u001b[1;33m[\u001b[0m\u001b[1;33m-\u001b[0m\u001b[1;36m6\u001b[0m\u001b[1;33m]\u001b[0m\u001b[1;33m)\u001b[0m\u001b[1;33m\u001b[0m\u001b[1;33m\u001b[0m\u001b[0m\n\u001b[0m",
      "\u001b[1;31mIndexError\u001b[0m: list index out of range"
     ]
    }
   ],
   "source": [
    "# Data types - Extended\n",
    "#1. bool\n",
    "var1 = True # False\n",
    "print(type(var1))\n",
    "\n",
    "#2. int\n",
    "var1 = 23456\n",
    "print(type(var1))\n",
    "\n",
    "#3. float\n",
    "var1 = 12345.6789\n",
    "print(type(var1))\n",
    "\n",
    "#4. complex #real- life application?\n",
    "var1 = 12345+6789J #real number + imaginary number\n",
    "var1 = 12345+6789j\n",
    "print(type(var1))\n",
    "print()\n",
    "\n",
    "#5.list\n",
    "var1 = [5, 6, 7, 8, 9]\n",
    "print(type(var1))\n",
    "print(var1)\n",
    "print(len(var1))\n",
    "\n",
    "#indexing\n",
    "print(var1[2])\n",
    "\n",
    "print(var1[-5])\n",
    "print(var1[-6])"
   ]
  },
  {
   "cell_type": "code",
   "execution_count": 2,
   "id": "white-samoa",
   "metadata": {},
   "outputs": [
    {
     "name": "stdout",
     "output_type": "stream",
     "text": [
      "[5, 6, 7, 8, 9]\n"
     ]
    }
   ],
   "source": [
    "print(var1)"
   ]
  },
  {
   "cell_type": "code",
   "execution_count": 12,
   "id": "modern-watershed",
   "metadata": {},
   "outputs": [
    {
     "name": "stdout",
     "output_type": "stream",
     "text": [
      "5\n",
      "9\n"
     ]
    }
   ],
   "source": [
    "import sys\n",
    "try:\n",
    "    print(var1[-5])\n",
    "    print(var1[-1])\n",
    "except:\n",
    "    print(\"Error \", sys.exc_info())"
   ]
  },
  {
   "cell_type": "code",
   "execution_count": 9,
   "id": "everyday-speed",
   "metadata": {},
   "outputs": [
    {
     "name": "stdout",
     "output_type": "stream",
     "text": [
      "5\n",
      "Error \n"
     ]
    }
   ],
   "source": [
    "try:\n",
    "    print(var1[-5])\n",
    "    print(var1[-6])\n",
    "except:\n",
    "    print(\"Error \")"
   ]
  },
  {
   "cell_type": "code",
   "execution_count": 16,
   "id": "ruled-profile",
   "metadata": {},
   "outputs": [
    {
     "name": "stdout",
     "output_type": "stream",
     "text": [
      "5\n",
      "Error  <class 'IndexError'> list index out of range\n"
     ]
    }
   ],
   "source": [
    "import sys\n",
    "try:\n",
    "    print(var1[-5])\n",
    "    print(var1[-6])\n",
    "except:\n",
    "    print(\"Error \", sys.exc_info()[0],sys.exc_info()[1])"
   ]
  },
  {
   "cell_type": "code",
   "execution_count": 19,
   "id": "straight-participant",
   "metadata": {},
   "outputs": [],
   "source": [
    "import sys\n",
    "try:\n",
    "    pass\n",
    "except:\n",
    "    print(\"Error : \", sys.exc_info()[1])"
   ]
  },
  {
   "cell_type": "code",
   "execution_count": 27,
   "id": "overhead-inspiration",
   "metadata": {},
   "outputs": [
    {
     "name": "stdout",
     "output_type": "stream",
     "text": [
      "[5, 3, 2, 6, 7]\n"
     ]
    }
   ],
   "source": [
    "# Slicing - extract one or more than one values\n",
    "import sys\n",
    "try:\n",
    "    var1 = [5,3,2,6,7] #declare and initialize\n",
    "    print(var1[0:5])#form-index 0 to 4\n",
    "except:\n",
    "    print(\"Error : \", sys.exc_info()[1])"
   ]
  },
  {
   "cell_type": "code",
   "execution_count": 43,
   "id": "electrical-treatment",
   "metadata": {},
   "outputs": [
    {
     "name": "stdout",
     "output_type": "stream",
     "text": [
      "[5, 3, 2, 6, 7]\n",
      "[5, 3]\n",
      "[]\n",
      "[5, 3, 2, 6]\n",
      "5\n",
      "[5, 3, 2, 6, 7]\n",
      "[5, 2, 7]\n",
      "[5, 6]\n",
      "[5, 3, 2, 6, 7]\n",
      "[5, 2, 7]\n",
      "[7, 6, 2, 3, 5]\n"
     ]
    }
   ],
   "source": [
    "# Slicing\n",
    "import sys\n",
    "try:\n",
    "    var1 = [5,3,2,6,7] #declare and initialize\n",
    "    var2 = var1[0:5]\n",
    "    print(var2)\n",
    "    \n",
    "    print(var1[0:2]) #0 to 1\n",
    "    print(var1[-1:-5])\n",
    "    print(var1[-5:-1])\n",
    "    print(len(var1))\n",
    "    \n",
    "    print(var1[0:5:1])\n",
    "    print(var1[0:5:2])\n",
    "    print(var1[0:5:3])\n",
    "    print(var1[::])\n",
    "    print(var1[::2])\n",
    "    print(var1[::-1])\n",
    "except:\n",
    "    print(\"Error : \", sys.exc_info()[1])"
   ]
  },
  {
   "cell_type": "code",
   "execution_count": 47,
   "id": "stopped-calvin",
   "metadata": {},
   "outputs": [],
   "source": [
    "# Random Number\n",
    "# how to generate random number\n",
    "#How to store random numbers in list"
   ]
  },
  {
   "cell_type": "code",
   "execution_count": 51,
   "id": "wanted-virgin",
   "metadata": {},
   "outputs": [
    {
     "name": "stdout",
     "output_type": "stream",
     "text": [
      "42\n"
     ]
    }
   ],
   "source": [
    "from random import randint\n",
    "print(randint(1, 100))"
   ]
  },
  {
   "cell_type": "code",
   "execution_count": 52,
   "id": "pacific-atlantic",
   "metadata": {},
   "outputs": [],
   "source": [
    "var1 =[randint(1,100), randint(1,100), randint(1,100)]"
   ]
  },
  {
   "cell_type": "code",
   "execution_count": 53,
   "id": "proof-colonial",
   "metadata": {},
   "outputs": [
    {
     "name": "stdout",
     "output_type": "stream",
     "text": [
      "[52, 2, 2]\n"
     ]
    }
   ],
   "source": [
    "print(var1)"
   ]
  },
  {
   "cell_type": "code",
   "execution_count": 55,
   "id": "based-checklist",
   "metadata": {},
   "outputs": [],
   "source": [
    "var1 =[randint(1,100), randint(1,1000), randint(1,10000)]"
   ]
  },
  {
   "cell_type": "code",
   "execution_count": 56,
   "id": "knowing-roman",
   "metadata": {},
   "outputs": [
    {
     "name": "stdout",
     "output_type": "stream",
     "text": [
      "[47, 128, 8744]\n"
     ]
    }
   ],
   "source": [
    "print(var1)"
   ]
  },
  {
   "cell_type": "code",
   "execution_count": 65,
   "id": "visible-doubt",
   "metadata": {},
   "outputs": [
    {
     "name": "stdout",
     "output_type": "stream",
     "text": [
      "[19, 27, 19, 16, 19, 16, 22, 23, 18, 25, 29, 29, 24, 15, 24, 18, 15, 24, 24, 25, 28, 28, 20, 21, 16, 28, 29, 29, 28, 25, 20, 15, 25, 25, 19, 19, 18, 22, 19, 29, 19, 21, 23, 29, 15, 19, 26, 30, 26, 18]\n"
     ]
    }
   ],
   "source": [
    "# Generating multiple random numbers and store on list\n",
    "from random import randint\n",
    "list1 =[] #blank list\n",
    "MAX = 100\n",
    "for i in range(0,MAX):\n",
    "    list1.append(randint(15,30))\n",
    "    \n",
    "print(list1[::2])"
   ]
  },
  {
   "cell_type": "code",
   "execution_count": null,
   "id": "romance-proceeding",
   "metadata": {},
   "outputs": [],
   "source": []
  }
 ],
 "metadata": {
  "kernelspec": {
   "display_name": "Python 3",
   "language": "python",
   "name": "python3"
  },
  "language_info": {
   "codemirror_mode": {
    "name": "ipython",
    "version": 3
   },
   "file_extension": ".py",
   "mimetype": "text/x-python",
   "name": "python",
   "nbconvert_exporter": "python",
   "pygments_lexer": "ipython3",
   "version": "3.8.8"
  }
 },
 "nbformat": 4,
 "nbformat_minor": 5
}
