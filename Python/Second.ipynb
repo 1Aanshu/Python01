{
 "cells": [
  {
   "cell_type": "code",
   "execution_count": 1,
   "id": "convenient-venture",
   "metadata": {},
   "outputs": [
    {
     "name": "stdout",
     "output_type": "stream",
     "text": [
      "hello My name is Aanshu Dwiwedi\n"
     ]
    }
   ],
   "source": [
    "print(\"hello My name is Aanshu Dwiwedi\")"
   ]
  },
  {
   "cell_type": "markdown",
   "id": "federal-option",
   "metadata": {},
   "source": [
    "# variables in python"
   ]
  },
  {
   "cell_type": "code",
   "execution_count": 2,
   "id": "smooth-manufacturer",
   "metadata": {},
   "outputs": [],
   "source": [
    "# name_of_variable = value"
   ]
  },
  {
   "cell_type": "code",
   "execution_count": 6,
   "id": "earned-editor",
   "metadata": {},
   "outputs": [
    {
     "name": "stdout",
     "output_type": "stream",
     "text": [
      "123\n",
      "123.456\n",
      "True\n",
      "False\n",
      "Aanshu Dwiwedi\n"
     ]
    }
   ],
   "source": [
    "var1 = None\n",
    "\n",
    "var1 = 123\n",
    "print(var1)\n",
    "\n",
    "var1 = 123.456\n",
    "print(var1)\n",
    "\n",
    "var1 = True\n",
    "print(var1)\n",
    "\n",
    "var1 = False\n",
    "print(var1)\n",
    "\n",
    "var1 = \"Aanshu Dwiwedi\"\n",
    "print(var1)"
   ]
  },
  {
   "cell_type": "markdown",
   "id": "suitable-delaware",
   "metadata": {},
   "source": [
    "# Basic IO"
   ]
  },
  {
   "cell_type": "code",
   "execution_count": 9,
   "id": "auburn-behavior",
   "metadata": {},
   "outputs": [
    {
     "name": "stdout",
     "output_type": "stream",
     "text": [
      "Enter any value : aanshu\n",
      "aanshu\n",
      "value = aanshu\n"
     ]
    }
   ],
   "source": [
    "var1 = input(\"Enter any value : \")# Input\n",
    "print(var1)# Output\n",
    "print(\"value =\", var1)#output"
   ]
  },
  {
   "cell_type": "code",
   "execution_count": 2,
   "id": "acting-production",
   "metadata": {},
   "outputs": [
    {
     "name": "stdout",
     "output_type": "stream",
     "text": [
      "Enter number : 3\n",
      "Enter number : 4\n",
      "7\n"
     ]
    }
   ],
   "source": [
    "var1 = int(input(\"Enter number : \"))\n",
    "var2 = int(input(\"Enter number : \"))\n",
    "print(var1 + var2)"
   ]
  },
  {
   "cell_type": "code",
   "execution_count": 4,
   "id": "expressed-chance",
   "metadata": {},
   "outputs": [
    {
     "name": "stdout",
     "output_type": "stream",
     "text": [
      "Enter numebr : 2\n",
      "Enter number : 3\n",
      "0.6666666666666666\n"
     ]
    }
   ],
   "source": [
    "a = int(input(\"Enter numebr : \"))\n",
    "b = int(input(\"Enter number : \"))\n",
    "c = float(a/b)\n",
    "print(c)"
   ]
  },
  {
   "cell_type": "code",
   "execution_count": 8,
   "id": "proprietary-columbia",
   "metadata": {},
   "outputs": [
    {
     "name": "stdout",
     "output_type": "stream",
     "text": [
      "Enter numebr : 3\n",
      "Enter number : 2\n",
      "1.0\n"
     ]
    }
   ],
   "source": [
    "a = int(input(\"Enter numebr : \"))\n",
    "b = int(input(\"Enter number : \"))\n",
    "c = float(a%b)\n",
    "print(c)"
   ]
  },
  {
   "cell_type": "code",
   "execution_count": 11,
   "id": "lined-height",
   "metadata": {},
   "outputs": [
    {
     "name": "stdout",
     "output_type": "stream",
     "text": [
      "Enter numebr : 3\n",
      "Enter number : 2\n",
      "1\n"
     ]
    }
   ],
   "source": [
    "a = int(input(\"Enter numebr : \"))\n",
    "b = int(input(\"Enter number : \"))\n",
    "c = int(a//b)\n",
    "print(c)"
   ]
  },
  {
   "cell_type": "code",
   "execution_count": 13,
   "id": "charitable-fundamental",
   "metadata": {},
   "outputs": [
    {
     "name": "stdout",
     "output_type": "stream",
     "text": [
      "Enter number : 200\n",
      "Enter number : 33\n",
      "a is greater than b\n"
     ]
    }
   ],
   "source": [
    "a = int(input(\"Enter number : \"))\n",
    "b = int(input(\"Enter number : \"))\n",
    "\n",
    "if b > a:\n",
    "  print(\"b is greater than a\")\n",
    "else:\n",
    "  print(\"a is greater than b\")"
   ]
  },
  {
   "cell_type": "markdown",
   "id": "southeast-swimming",
   "metadata": {},
   "source": [
    "#### data types - int,float,boolean,string"
   ]
  },
  {
   "cell_type": "code",
   "execution_count": 22,
   "id": "optimum-manual",
   "metadata": {},
   "outputs": [
    {
     "name": "stdout",
     "output_type": "stream",
     "text": [
      "<class 'str'>\n",
      "<class 'int'>\n",
      "<class 'float'>\n",
      "<class 'bool'>\n",
      "Integer\n",
      "Integer\n",
      "Float\n",
      "Boolean\n"
     ]
    }
   ],
   "source": [
    "# string to int, float, boolean\n",
    "str1 = \"12345\"\n",
    "print(type(str1))\n",
    "\n",
    "num1 = int(str1)\n",
    "print(type(num1))\n",
    "\n",
    "num2 = float(str1)\n",
    "print(type(num2))\n",
    "\n",
    "res = bool(\"True\")# \"True\" \"False\"\n",
    "print(type(res))\n",
    "\n",
    "if(isinstance(num1, int)):\n",
    "    print(\"Integer\")\n",
    "    \n",
    "if(isinstance(num2, int)):\n",
    "    print(\"Integer\")\n",
    "    \n",
    "if(isinstance(res, int)):\n",
    "    print(\"Integer\")\n",
    "    \n",
    "if(isinstance(num1, float)):\n",
    "    print(\"Float\")\n",
    "    \n",
    "if(isinstance(num2, float)):\n",
    "    print(\"Float\")\n",
    "    \n",
    "if(isinstance(res, float)):\n",
    "    print(\"Float\")\n",
    "    \n",
    "if(isinstance(num1, bool)):\n",
    "    print(\"Boolean\")\n",
    "    \n",
    "if(isinstance(num2, bool)):\n",
    "    print(\"Boolean\")\n",
    "    \n",
    "if(isinstance(res, bool)):\n",
    "    print(\"Boolean\")\n",
    "    \n",
    "if(isinstance(num1, str)):\n",
    "    print(\"String\")\n",
    "    \n",
    "if(isinstance(num2, str)):\n",
    "    print(\"String\")\n",
    "    \n",
    "if(isinstance(res, str)):\n",
    "    print(\"String\")\n",
    "    "
   ]
  },
  {
   "cell_type": "code",
   "execution_count": 19,
   "id": "lined-vertical",
   "metadata": {},
   "outputs": [
    {
     "name": "stdout",
     "output_type": "stream",
     "text": [
      "<class 'str'>\n"
     ]
    },
    {
     "ename": "ValueError",
     "evalue": "invalid literal for int() with base 10: '12345a'",
     "output_type": "error",
     "traceback": [
      "\u001b[1;31m---------------------------------------------------------------------------\u001b[0m",
      "\u001b[1;31mValueError\u001b[0m                                Traceback (most recent call last)",
      "\u001b[1;32m<ipython-input-19-9722dc437f80>\u001b[0m in \u001b[0;36m<module>\u001b[1;34m\u001b[0m\n\u001b[0;32m      2\u001b[0m \u001b[0mprint\u001b[0m\u001b[1;33m(\u001b[0m\u001b[0mtype\u001b[0m\u001b[1;33m(\u001b[0m\u001b[0mstr1\u001b[0m\u001b[1;33m)\u001b[0m\u001b[1;33m)\u001b[0m\u001b[1;33m\u001b[0m\u001b[1;33m\u001b[0m\u001b[0m\n\u001b[0;32m      3\u001b[0m \u001b[1;33m\u001b[0m\u001b[0m\n\u001b[1;32m----> 4\u001b[1;33m \u001b[0mnum1\u001b[0m \u001b[1;33m=\u001b[0m \u001b[0mint\u001b[0m\u001b[1;33m(\u001b[0m\u001b[0mstr1\u001b[0m\u001b[1;33m)\u001b[0m\u001b[1;33m\u001b[0m\u001b[1;33m\u001b[0m\u001b[0m\n\u001b[0m\u001b[0;32m      5\u001b[0m \u001b[0mprint\u001b[0m\u001b[1;33m(\u001b[0m\u001b[0mtype\u001b[0m\u001b[1;33m(\u001b[0m\u001b[0mnum1\u001b[0m\u001b[1;33m)\u001b[0m\u001b[1;33m)\u001b[0m\u001b[1;33m\u001b[0m\u001b[1;33m\u001b[0m\u001b[0m\n\u001b[0;32m      6\u001b[0m \u001b[1;33m\u001b[0m\u001b[0m\n",
      "\u001b[1;31mValueError\u001b[0m: invalid literal for int() with base 10: '12345a'"
     ]
    }
   ],
   "source": [
    "str1 = \"12345a\"\n",
    "print(type(str1))\n",
    "\n",
    "num1 = int(str1)\n",
    "print(type(num1))\n",
    "\n",
    "num2 = float(str1)\n",
    "print(type(num2))\n",
    "\n",
    "res = bool(\"True\")# \"True\" \"False\"\n",
    "print(type(res))"
   ]
  },
  {
   "cell_type": "code",
   "execution_count": 20,
   "id": "mental-indonesia",
   "metadata": {},
   "outputs": [
    {
     "name": "stdout",
     "output_type": "stream",
     "text": [
      "<class 'str'>\n",
      "<class 'int'>\n",
      "<class 'float'>\n",
      "<class 'bool'>\n"
     ]
    }
   ],
   "source": [
    "str1 = \"12345\"\n",
    "print(type(str1))\n",
    "\n",
    "num1 = int(str1)\n",
    "print(type(num1))\n",
    "\n",
    "str1 = \"12345.46\"\n",
    "num2 = float(str1)\n",
    "print(type(num2))\n",
    "\n",
    "res = bool(\"True\")# \"True\" \"False\"\n",
    "print(type(res))"
   ]
  },
  {
   "cell_type": "code",
   "execution_count": 25,
   "id": "indian-turner",
   "metadata": {},
   "outputs": [
    {
     "name": "stdout",
     "output_type": "stream",
     "text": [
      "<class 'int'>\n",
      "<class 'str'>\n",
      "\n",
      "<class 'float'>\n",
      "<class 'str'>\n",
      "\n",
      "<class 'bool'>\n",
      "<class 'str'>\n",
      "string\n"
     ]
    }
   ],
   "source": [
    "#int , float , boolean to string\n",
    "num1 = 3456\n",
    "num2 = 456.789\n",
    "res = True\n",
    "\n",
    "str1 = str(num1)\n",
    "print(type(num1))\n",
    "print(type(str1))\n",
    "print()\n",
    "\n",
    "str2 = str(num2)\n",
    "print(type(num2))\n",
    "print(type(str2))\n",
    "print()\n",
    "\n",
    "str3 = str(res)\n",
    "print(type(res))\n",
    "print(type(str3))\n",
    "\n",
    "if(isinstance(str1, str)):\n",
    "    print(\"string\")"
   ]
  },
  {
   "cell_type": "code",
   "execution_count": 28,
   "id": "regulation-jersey",
   "metadata": {},
   "outputs": [
    {
     "name": "stdout",
     "output_type": "stream",
     "text": [
      "<class 'int'>\n",
      "<class 'float'>\n"
     ]
    }
   ],
   "source": [
    "# int to float\n",
    "num1 = 345\n",
    "num2 = float(num1)\n",
    "print(type(num1))\n",
    "print(type(num2))"
   ]
  },
  {
   "cell_type": "code",
   "execution_count": 27,
   "id": "prompt-bailey",
   "metadata": {},
   "outputs": [
    {
     "name": "stdout",
     "output_type": "stream",
     "text": [
      "<class 'float'>\n",
      "<class 'int'>\n"
     ]
    }
   ],
   "source": [
    "num1 = 345.678\n",
    "num2 = int(num1)\n",
    "print(type(num1))\n",
    "print(type(num2))"
   ]
  },
  {
   "cell_type": "code",
   "execution_count": 30,
   "id": "confused-frame",
   "metadata": {},
   "outputs": [
    {
     "name": "stdout",
     "output_type": "stream",
     "text": [
      "456.79\n"
     ]
    }
   ],
   "source": [
    "# task - Rounding the digits after decimal place\n",
    "num1 = 456.789123\n",
    "#456.79 #Rounding after decimal place\n",
    "print(round(num1, 2))\n"
   ]
  },
  {
   "cell_type": "code",
   "execution_count": 32,
   "id": "sensitive-example",
   "metadata": {},
   "outputs": [
    {
     "name": "stdout",
     "output_type": "stream",
     "text": [
      "1279\n",
      "1189\n",
      "55530\n",
      "27.42222222222222\n",
      "27\n",
      "19\n",
      "12858259503317138993032060663115227698767697321022453511734361104006218632821822420757738016896992940685125968028282734964633411368542797824\n"
     ]
    }
   ],
   "source": [
    "# Operators\n",
    "# 1. Arithmetic Operators\n",
    "num1 = 1234\n",
    "num2 = 45\n",
    "num3 = num1+num2\n",
    "print(num3)\n",
    "\n",
    "num3 = num1-num2\n",
    "print(num3)\n",
    "\n",
    "num3 = num1 * num2\n",
    "print(num3)\n",
    "\n",
    "num3 = num1 /num2 # floating point division\n",
    "print(num3)\n",
    "\n",
    "num3 = num1//num2 #integer division\n",
    "print(num3)\n",
    "\n",
    "num3 = num1 % num2 # Rem/Mod\n",
    "print(num3)\n",
    "\n",
    "num3 = num1**num2 #Power (num1 power num2)\n",
    "print(num3)"
   ]
  },
  {
   "cell_type": "code",
   "execution_count": 2,
   "id": "virgin-cambridge",
   "metadata": {},
   "outputs": [],
   "source": [
    "import math"
   ]
  },
  {
   "cell_type": "code",
   "execution_count": 34,
   "id": "swedish-gates",
   "metadata": {},
   "outputs": [
    {
     "data": {
      "text/plain": [
       "['__doc__',\n",
       " '__loader__',\n",
       " '__name__',\n",
       " '__package__',\n",
       " '__spec__',\n",
       " 'acos',\n",
       " 'acosh',\n",
       " 'asin',\n",
       " 'asinh',\n",
       " 'atan',\n",
       " 'atan2',\n",
       " 'atanh',\n",
       " 'ceil',\n",
       " 'comb',\n",
       " 'copysign',\n",
       " 'cos',\n",
       " 'cosh',\n",
       " 'degrees',\n",
       " 'dist',\n",
       " 'e',\n",
       " 'erf',\n",
       " 'erfc',\n",
       " 'exp',\n",
       " 'expm1',\n",
       " 'fabs',\n",
       " 'factorial',\n",
       " 'floor',\n",
       " 'fmod',\n",
       " 'frexp',\n",
       " 'fsum',\n",
       " 'gamma',\n",
       " 'gcd',\n",
       " 'hypot',\n",
       " 'inf',\n",
       " 'isclose',\n",
       " 'isfinite',\n",
       " 'isinf',\n",
       " 'isnan',\n",
       " 'isqrt',\n",
       " 'ldexp',\n",
       " 'lgamma',\n",
       " 'log',\n",
       " 'log10',\n",
       " 'log1p',\n",
       " 'log2',\n",
       " 'modf',\n",
       " 'nan',\n",
       " 'perm',\n",
       " 'pi',\n",
       " 'pow',\n",
       " 'prod',\n",
       " 'radians',\n",
       " 'remainder',\n",
       " 'sin',\n",
       " 'sinh',\n",
       " 'sqrt',\n",
       " 'tan',\n",
       " 'tanh',\n",
       " 'tau',\n",
       " 'trunc']"
      ]
     },
     "execution_count": 34,
     "metadata": {},
     "output_type": "execute_result"
    }
   ],
   "source": [
    "dir(math)"
   ]
  },
  {
   "cell_type": "code",
   "execution_count": 35,
   "id": "understanding-burke",
   "metadata": {},
   "outputs": [
    {
     "name": "stdout",
     "output_type": "stream",
     "text": [
      "Help on built-in module math:\n",
      "\n",
      "NAME\n",
      "    math\n",
      "\n",
      "DESCRIPTION\n",
      "    This module provides access to the mathematical functions\n",
      "    defined by the C standard.\n",
      "\n",
      "FUNCTIONS\n",
      "    acos(x, /)\n",
      "        Return the arc cosine (measured in radians) of x.\n",
      "    \n",
      "    acosh(x, /)\n",
      "        Return the inverse hyperbolic cosine of x.\n",
      "    \n",
      "    asin(x, /)\n",
      "        Return the arc sine (measured in radians) of x.\n",
      "    \n",
      "    asinh(x, /)\n",
      "        Return the inverse hyperbolic sine of x.\n",
      "    \n",
      "    atan(x, /)\n",
      "        Return the arc tangent (measured in radians) of x.\n",
      "    \n",
      "    atan2(y, x, /)\n",
      "        Return the arc tangent (measured in radians) of y/x.\n",
      "        \n",
      "        Unlike atan(y/x), the signs of both x and y are considered.\n",
      "    \n",
      "    atanh(x, /)\n",
      "        Return the inverse hyperbolic tangent of x.\n",
      "    \n",
      "    ceil(x, /)\n",
      "        Return the ceiling of x as an Integral.\n",
      "        \n",
      "        This is the smallest integer >= x.\n",
      "    \n",
      "    comb(n, k, /)\n",
      "        Number of ways to choose k items from n items without repetition and without order.\n",
      "        \n",
      "        Evaluates to n! / (k! * (n - k)!) when k <= n and evaluates\n",
      "        to zero when k > n.\n",
      "        \n",
      "        Also called the binomial coefficient because it is equivalent\n",
      "        to the coefficient of k-th term in polynomial expansion of the\n",
      "        expression (1 + x)**n.\n",
      "        \n",
      "        Raises TypeError if either of the arguments are not integers.\n",
      "        Raises ValueError if either of the arguments are negative.\n",
      "    \n",
      "    copysign(x, y, /)\n",
      "        Return a float with the magnitude (absolute value) of x but the sign of y.\n",
      "        \n",
      "        On platforms that support signed zeros, copysign(1.0, -0.0)\n",
      "        returns -1.0.\n",
      "    \n",
      "    cos(x, /)\n",
      "        Return the cosine of x (measured in radians).\n",
      "    \n",
      "    cosh(x, /)\n",
      "        Return the hyperbolic cosine of x.\n",
      "    \n",
      "    degrees(x, /)\n",
      "        Convert angle x from radians to degrees.\n",
      "    \n",
      "    dist(p, q, /)\n",
      "        Return the Euclidean distance between two points p and q.\n",
      "        \n",
      "        The points should be specified as sequences (or iterables) of\n",
      "        coordinates.  Both inputs must have the same dimension.\n",
      "        \n",
      "        Roughly equivalent to:\n",
      "            sqrt(sum((px - qx) ** 2.0 for px, qx in zip(p, q)))\n",
      "    \n",
      "    erf(x, /)\n",
      "        Error function at x.\n",
      "    \n",
      "    erfc(x, /)\n",
      "        Complementary error function at x.\n",
      "    \n",
      "    exp(x, /)\n",
      "        Return e raised to the power of x.\n",
      "    \n",
      "    expm1(x, /)\n",
      "        Return exp(x)-1.\n",
      "        \n",
      "        This function avoids the loss of precision involved in the direct evaluation of exp(x)-1 for small x.\n",
      "    \n",
      "    fabs(x, /)\n",
      "        Return the absolute value of the float x.\n",
      "    \n",
      "    factorial(x, /)\n",
      "        Find x!.\n",
      "        \n",
      "        Raise a ValueError if x is negative or non-integral.\n",
      "    \n",
      "    floor(x, /)\n",
      "        Return the floor of x as an Integral.\n",
      "        \n",
      "        This is the largest integer <= x.\n",
      "    \n",
      "    fmod(x, y, /)\n",
      "        Return fmod(x, y), according to platform C.\n",
      "        \n",
      "        x % y may differ.\n",
      "    \n",
      "    frexp(x, /)\n",
      "        Return the mantissa and exponent of x, as pair (m, e).\n",
      "        \n",
      "        m is a float and e is an int, such that x = m * 2.**e.\n",
      "        If x is 0, m and e are both 0.  Else 0.5 <= abs(m) < 1.0.\n",
      "    \n",
      "    fsum(seq, /)\n",
      "        Return an accurate floating point sum of values in the iterable seq.\n",
      "        \n",
      "        Assumes IEEE-754 floating point arithmetic.\n",
      "    \n",
      "    gamma(x, /)\n",
      "        Gamma function at x.\n",
      "    \n",
      "    gcd(x, y, /)\n",
      "        greatest common divisor of x and y\n",
      "    \n",
      "    hypot(...)\n",
      "        hypot(*coordinates) -> value\n",
      "        \n",
      "        Multidimensional Euclidean distance from the origin to a point.\n",
      "        \n",
      "        Roughly equivalent to:\n",
      "            sqrt(sum(x**2 for x in coordinates))\n",
      "        \n",
      "        For a two dimensional point (x, y), gives the hypotenuse\n",
      "        using the Pythagorean theorem:  sqrt(x*x + y*y).\n",
      "        \n",
      "        For example, the hypotenuse of a 3/4/5 right triangle is:\n",
      "        \n",
      "            >>> hypot(3.0, 4.0)\n",
      "            5.0\n",
      "    \n",
      "    isclose(a, b, *, rel_tol=1e-09, abs_tol=0.0)\n",
      "        Determine whether two floating point numbers are close in value.\n",
      "        \n",
      "          rel_tol\n",
      "            maximum difference for being considered \"close\", relative to the\n",
      "            magnitude of the input values\n",
      "          abs_tol\n",
      "            maximum difference for being considered \"close\", regardless of the\n",
      "            magnitude of the input values\n",
      "        \n",
      "        Return True if a is close in value to b, and False otherwise.\n",
      "        \n",
      "        For the values to be considered close, the difference between them\n",
      "        must be smaller than at least one of the tolerances.\n",
      "        \n",
      "        -inf, inf and NaN behave similarly to the IEEE 754 Standard.  That\n",
      "        is, NaN is not close to anything, even itself.  inf and -inf are\n",
      "        only close to themselves.\n",
      "    \n",
      "    isfinite(x, /)\n",
      "        Return True if x is neither an infinity nor a NaN, and False otherwise.\n",
      "    \n",
      "    isinf(x, /)\n",
      "        Return True if x is a positive or negative infinity, and False otherwise.\n",
      "    \n",
      "    isnan(x, /)\n",
      "        Return True if x is a NaN (not a number), and False otherwise.\n",
      "    \n",
      "    isqrt(n, /)\n",
      "        Return the integer part of the square root of the input.\n",
      "    \n",
      "    ldexp(x, i, /)\n",
      "        Return x * (2**i).\n",
      "        \n",
      "        This is essentially the inverse of frexp().\n",
      "    \n",
      "    lgamma(x, /)\n",
      "        Natural logarithm of absolute value of Gamma function at x.\n",
      "    \n",
      "    log(...)\n",
      "        log(x, [base=math.e])\n",
      "        Return the logarithm of x to the given base.\n",
      "        \n",
      "        If the base not specified, returns the natural logarithm (base e) of x.\n",
      "    \n",
      "    log10(x, /)\n",
      "        Return the base 10 logarithm of x.\n",
      "    \n",
      "    log1p(x, /)\n",
      "        Return the natural logarithm of 1+x (base e).\n",
      "        \n",
      "        The result is computed in a way which is accurate for x near zero.\n",
      "    \n",
      "    log2(x, /)\n",
      "        Return the base 2 logarithm of x.\n",
      "    \n",
      "    modf(x, /)\n",
      "        Return the fractional and integer parts of x.\n",
      "        \n",
      "        Both results carry the sign of x and are floats.\n",
      "    \n",
      "    perm(n, k=None, /)\n",
      "        Number of ways to choose k items from n items without repetition and with order.\n",
      "        \n",
      "        Evaluates to n! / (n - k)! when k <= n and evaluates\n",
      "        to zero when k > n.\n",
      "        \n",
      "        If k is not specified or is None, then k defaults to n\n",
      "        and the function returns n!.\n",
      "        \n",
      "        Raises TypeError if either of the arguments are not integers.\n",
      "        Raises ValueError if either of the arguments are negative.\n",
      "    \n",
      "    pow(x, y, /)\n",
      "        Return x**y (x to the power of y).\n",
      "    \n",
      "    prod(iterable, /, *, start=1)\n",
      "        Calculate the product of all the elements in the input iterable.\n",
      "        \n",
      "        The default start value for the product is 1.\n",
      "        \n",
      "        When the iterable is empty, return the start value.  This function is\n",
      "        intended specifically for use with numeric values and may reject\n",
      "        non-numeric types.\n",
      "    \n",
      "    radians(x, /)\n",
      "        Convert angle x from degrees to radians.\n",
      "    \n",
      "    remainder(x, y, /)\n",
      "        Difference between x and the closest integer multiple of y.\n",
      "        \n",
      "        Return x - n*y where n*y is the closest integer multiple of y.\n",
      "        In the case where x is exactly halfway between two multiples of\n",
      "        y, the nearest even value of n is used. The result is always exact.\n",
      "    \n",
      "    sin(x, /)\n",
      "        Return the sine of x (measured in radians).\n",
      "    \n",
      "    sinh(x, /)\n",
      "        Return the hyperbolic sine of x.\n",
      "    \n",
      "    sqrt(x, /)\n",
      "        Return the square root of x.\n",
      "    \n",
      "    tan(x, /)\n",
      "        Return the tangent of x (measured in radians).\n",
      "    \n",
      "    tanh(x, /)\n",
      "        Return the hyperbolic tangent of x.\n",
      "    \n",
      "    trunc(x, /)\n",
      "        Truncates the Real x to the nearest Integral toward 0.\n",
      "        \n",
      "        Uses the __trunc__ magic method.\n",
      "\n",
      "DATA\n",
      "    e = 2.718281828459045\n",
      "    inf = inf\n",
      "    nan = nan\n",
      "    pi = 3.141592653589793\n",
      "    tau = 6.283185307179586\n",
      "\n",
      "FILE\n",
      "    (built-in)\n",
      "\n",
      "\n",
      "None\n"
     ]
    }
   ],
   "source": [
    "print(help(math))"
   ]
  },
  {
   "cell_type": "code",
   "execution_count": 3,
   "id": "authentic-colorado",
   "metadata": {},
   "outputs": [
    {
     "name": "stdout",
     "output_type": "stream",
     "text": [
      "120\n"
     ]
    }
   ],
   "source": [
    "print(math.factorial(5))"
   ]
  },
  {
   "cell_type": "code",
   "execution_count": 4,
   "id": "filled-learning",
   "metadata": {},
   "outputs": [
    {
     "name": "stdout",
     "output_type": "stream",
     "text": [
      "1234\n"
     ]
    }
   ],
   "source": [
    "num1 = math.floor(1234.456)\n",
    "print(num1)"
   ]
  },
  {
   "cell_type": "code",
   "execution_count": 6,
   "id": "broke-walker",
   "metadata": {},
   "outputs": [
    {
     "name": "stdout",
     "output_type": "stream",
     "text": [
      "92.35210000000001\n"
     ]
    }
   ],
   "source": [
    "print(math.pow(3.1,4))"
   ]
  },
  {
   "cell_type": "code",
   "execution_count": 7,
   "id": "recovered-worth",
   "metadata": {},
   "outputs": [
    {
     "name": "stdout",
     "output_type": "stream",
     "text": [
      "14.0\n"
     ]
    }
   ],
   "source": [
    "print(math.sqrt(196))"
   ]
  },
  {
   "cell_type": "code",
   "execution_count": 8,
   "id": "civilian-banking",
   "metadata": {},
   "outputs": [
    {
     "name": "stdout",
     "output_type": "stream",
     "text": [
      "3.141592653589793\n"
     ]
    }
   ],
   "source": [
    "print(math.pi)"
   ]
  },
  {
   "cell_type": "code",
   "execution_count": 1,
   "id": "saving-mapping",
   "metadata": {},
   "outputs": [
    {
     "name": "stdout",
     "output_type": "stream",
     "text": [
      "<class 'bool'>\n",
      "<class 'int'>\n",
      "<class 'float'>\n",
      "<class 'complex'>\n",
      "\n",
      "<class 'list'>\n",
      "[5, 6, 7, 8, 9]\n",
      "5\n",
      "7\n",
      "5\n"
     ]
    },
    {
     "ename": "IndexError",
     "evalue": "list index out of range",
     "output_type": "error",
     "traceback": [
      "\u001b[1;31m---------------------------------------------------------------------------\u001b[0m",
      "\u001b[1;31mIndexError\u001b[0m                                Traceback (most recent call last)",
      "\u001b[1;32m<ipython-input-1-a9733b11d539>\u001b[0m in \u001b[0;36m<module>\u001b[1;34m\u001b[0m\n\u001b[0;32m     28\u001b[0m \u001b[1;33m\u001b[0m\u001b[0m\n\u001b[0;32m     29\u001b[0m \u001b[0mprint\u001b[0m\u001b[1;33m(\u001b[0m\u001b[0mvar1\u001b[0m\u001b[1;33m[\u001b[0m\u001b[1;33m-\u001b[0m\u001b[1;36m5\u001b[0m\u001b[1;33m]\u001b[0m\u001b[1;33m)\u001b[0m\u001b[1;33m\u001b[0m\u001b[1;33m\u001b[0m\u001b[0m\n\u001b[1;32m---> 30\u001b[1;33m \u001b[0mprint\u001b[0m\u001b[1;33m(\u001b[0m\u001b[0mvar1\u001b[0m\u001b[1;33m[\u001b[0m\u001b[1;33m-\u001b[0m\u001b[1;36m6\u001b[0m\u001b[1;33m]\u001b[0m\u001b[1;33m)\u001b[0m\u001b[1;33m\u001b[0m\u001b[1;33m\u001b[0m\u001b[0m\n\u001b[0m",
      "\u001b[1;31mIndexError\u001b[0m: list index out of range"
     ]
    }
   ],
   "source": [
    "# Data types - Extended\n",
    "#1. bool\n",
    "var1 = True # False\n",
    "print(type(var1))\n",
    "\n",
    "#2. int\n",
    "var1 = 23456\n",
    "print(type(var1))\n",
    "\n",
    "#3. float\n",
    "var1 = 12345.6789\n",
    "print(type(var1))\n",
    "\n",
    "#4. complex #real- life application?\n",
    "var1 = 12345+6789J #real number + imaginary number\n",
    "var1 = 12345+6789j\n",
    "print(type(var1))\n",
    "print()\n",
    "\n",
    "#5.list\n",
    "var1 = [5, 6, 7, 8, 9]\n",
    "print(type(var1))\n",
    "print(var1)\n",
    "print(len(var1))\n",
    "\n",
    "#indexing\n",
    "print(var1[2])\n",
    "\n",
    "print(var1[-5])\n",
    "print(var1[-6])"
   ]
  },
  {
   "cell_type": "code",
   "execution_count": 2,
   "id": "white-samoa",
   "metadata": {},
   "outputs": [
    {
     "name": "stdout",
     "output_type": "stream",
     "text": [
      "[5, 6, 7, 8, 9]\n"
     ]
    }
   ],
   "source": [
    "print(var1)"
   ]
  },
  {
   "cell_type": "code",
   "execution_count": 12,
   "id": "modern-watershed",
   "metadata": {},
   "outputs": [
    {
     "name": "stdout",
     "output_type": "stream",
     "text": [
      "5\n",
      "9\n"
     ]
    }
   ],
   "source": [
    "import sys\n",
    "try:\n",
    "    print(var1[-5])\n",
    "    print(var1[-1])\n",
    "except:\n",
    "    print(\"Error \", sys.exc_info())"
   ]
  },
  {
   "cell_type": "code",
   "execution_count": 9,
   "id": "everyday-speed",
   "metadata": {},
   "outputs": [
    {
     "name": "stdout",
     "output_type": "stream",
     "text": [
      "5\n",
      "Error \n"
     ]
    }
   ],
   "source": [
    "try:\n",
    "    print(var1[-5])\n",
    "    print(var1[-6])\n",
    "except:\n",
    "    print(\"Error \")"
   ]
  },
  {
   "cell_type": "code",
   "execution_count": 16,
   "id": "ruled-profile",
   "metadata": {},
   "outputs": [
    {
     "name": "stdout",
     "output_type": "stream",
     "text": [
      "5\n",
      "Error  <class 'IndexError'> list index out of range\n"
     ]
    }
   ],
   "source": [
    "import sys\n",
    "try:\n",
    "    print(var1[-5])\n",
    "    print(var1[-6])\n",
    "except:\n",
    "    print(\"Error \", sys.exc_info()[0],sys.exc_info()[1])"
   ]
  },
  {
   "cell_type": "code",
   "execution_count": 19,
   "id": "straight-participant",
   "metadata": {},
   "outputs": [],
   "source": [
    "import sys\n",
    "try:\n",
    "    pass\n",
    "except:\n",
    "    print(\"Error : \", sys.exc_info()[1])"
   ]
  },
  {
   "cell_type": "code",
   "execution_count": 27,
   "id": "overhead-inspiration",
   "metadata": {},
   "outputs": [
    {
     "name": "stdout",
     "output_type": "stream",
     "text": [
      "[5, 3, 2, 6, 7]\n"
     ]
    }
   ],
   "source": [
    "# Slicing - extract one or more than one values\n",
    "import sys\n",
    "try:\n",
    "    var1 = [5,3,2,6,7] #declare and initialize\n",
    "    print(var1[0:5])#form-index 0 to 4\n",
    "except:\n",
    "    print(\"Error : \", sys.exc_info()[1])"
   ]
  },
  {
   "cell_type": "code",
   "execution_count": 43,
   "id": "electrical-treatment",
   "metadata": {},
   "outputs": [
    {
     "name": "stdout",
     "output_type": "stream",
     "text": [
      "[5, 3, 2, 6, 7]\n",
      "[5, 3]\n",
      "[]\n",
      "[5, 3, 2, 6]\n",
      "5\n",
      "[5, 3, 2, 6, 7]\n",
      "[5, 2, 7]\n",
      "[5, 6]\n",
      "[5, 3, 2, 6, 7]\n",
      "[5, 2, 7]\n",
      "[7, 6, 2, 3, 5]\n"
     ]
    }
   ],
   "source": [
    "# Slicing\n",
    "import sys\n",
    "try:\n",
    "    var1 = [5,3,2,6,7] #declare and initialize\n",
    "    var2 = var1[0:5]\n",
    "    print(var2)\n",
    "    \n",
    "    print(var1[0:2]) #0 to 1\n",
    "    print(var1[-1:-5])\n",
    "    print(var1[-5:-1])\n",
    "    print(len(var1))\n",
    "    \n",
    "    print(var1[0:5:1])\n",
    "    print(var1[0:5:2])\n",
    "    print(var1[0:5:3])\n",
    "    print(var1[::])\n",
    "    print(var1[::2])\n",
    "    print(var1[::-1])\n",
    "except:\n",
    "    print(\"Error : \", sys.exc_info()[1])"
   ]
  },
  {
   "cell_type": "code",
   "execution_count": 47,
   "id": "stopped-calvin",
   "metadata": {},
   "outputs": [],
   "source": [
    "# Random Number\n",
    "# how to generate random number\n",
    "#How to store random numbers in list"
   ]
  },
  {
   "cell_type": "code",
   "execution_count": 51,
   "id": "wanted-virgin",
   "metadata": {},
   "outputs": [
    {
     "name": "stdout",
     "output_type": "stream",
     "text": [
      "42\n"
     ]
    }
   ],
   "source": [
    "from random import randint\n",
    "print(randint(1, 100))"
   ]
  },
  {
   "cell_type": "code",
   "execution_count": 52,
   "id": "pacific-atlantic",
   "metadata": {},
   "outputs": [],
   "source": [
    "var1 =[randint(1,100), randint(1,100), randint(1,100)]"
   ]
  },
  {
   "cell_type": "code",
   "execution_count": 53,
   "id": "proof-colonial",
   "metadata": {},
   "outputs": [
    {
     "name": "stdout",
     "output_type": "stream",
     "text": [
      "[52, 2, 2]\n"
     ]
    }
   ],
   "source": [
    "print(var1)"
   ]
  },
  {
   "cell_type": "code",
   "execution_count": 55,
   "id": "based-checklist",
   "metadata": {},
   "outputs": [],
   "source": [
    "var1 =[randint(1,100), randint(1,1000), randint(1,10000)]"
   ]
  },
  {
   "cell_type": "code",
   "execution_count": 56,
   "id": "knowing-roman",
   "metadata": {},
   "outputs": [
    {
     "name": "stdout",
     "output_type": "stream",
     "text": [
      "[47, 128, 8744]\n"
     ]
    }
   ],
   "source": [
    "print(var1)"
   ]
  },
  {
   "cell_type": "code",
   "execution_count": 65,
   "id": "visible-doubt",
   "metadata": {},
   "outputs": [
    {
     "name": "stdout",
     "output_type": "stream",
     "text": [
      "[19, 27, 19, 16, 19, 16, 22, 23, 18, 25, 29, 29, 24, 15, 24, 18, 15, 24, 24, 25, 28, 28, 20, 21, 16, 28, 29, 29, 28, 25, 20, 15, 25, 25, 19, 19, 18, 22, 19, 29, 19, 21, 23, 29, 15, 19, 26, 30, 26, 18]\n"
     ]
    }
   ],
   "source": [
    "# Generating multiple random numbers and store on list\n",
    "from random import randint\n",
    "list1 =[] #blank list\n",
    "MAX = 100\n",
    "for i in range(0,MAX):\n",
    "    list1.append(randint(15,30))\n",
    "    \n",
    "print(list1[::2])"
   ]
  },
  {
   "cell_type": "code",
   "execution_count": 1,
   "id": "romance-proceeding",
   "metadata": {},
   "outputs": [
    {
     "name": "stdout",
     "output_type": "stream",
     "text": [
      "[24, 29, 27, 17, 30, 22, 21, 28, 26, 19, 20, 15, 25, 22, 20, 20, 18, 16, 30, 30, 28, 30, 29, 28, 19, 18, 20, 24, 19, 26, 23, 17, 15, 17, 23, 23, 17, 17, 22, 27, 29, 19, 16, 23, 17, 23, 17, 30, 17, 24, 15, 24, 26, 19, 30, 15, 22, 16, 21, 27, 19, 24, 22, 28, 26, 25, 23, 23, 19, 21, 15, 30, 21, 23, 26, 21, 30, 18, 29, 20, 30, 15, 21, 15, 18, 25, 23, 29, 20, 23, 17, 28, 19, 26, 27, 22, 24, 18, 24, 25]\n"
     ]
    }
   ],
   "source": [
    "from random import randint\n",
    "list1 =[] #blank list\n",
    "MAX = 100\n",
    "for i in range(0,MAX):\n",
    "    list1.append(randint(15,30))\n",
    "    \n",
    "print(list1)"
   ]
  },
  {
   "cell_type": "markdown",
   "id": "parental-symbol",
   "metadata": {},
   "source": [
    "# https://towardsdatascience.com/the-basics-of-indexing-and-slicing-python-lists-2d12c90a94cf"
   ]
  },
  {
   "cell_type": "markdown",
   "id": "serial-moses",
   "metadata": {},
   "source": [
    "# Tuple\n",
    " *Collection"
   ]
  },
  {
   "cell_type": "code",
   "execution_count": 11,
   "id": "controlling-temperature",
   "metadata": {},
   "outputs": [
    {
     "name": "stdout",
     "output_type": "stream",
     "text": [
      "(1, 2, 3, 4, 5)\n",
      "<class 'tuple'>\n",
      "2461925229648\n"
     ]
    }
   ],
   "source": [
    "# declare \n",
    "tup1 = (1,2,3,4,5)\n",
    "print(tup1)\n",
    "print(type(tup1))\n",
    "print(id(tup1)) #Memory address of variable"
   ]
  },
  {
   "cell_type": "code",
   "execution_count": 18,
   "id": "organized-disabled",
   "metadata": {},
   "outputs": [
    {
     "name": "stdout",
     "output_type": "stream",
     "text": [
      "(1, 2, 3, 4, 5)\n",
      "<class 'tuple'>\n",
      "2461925508976\n",
      "1\n",
      "5\n",
      "5\n",
      "1\n",
      "(1, 2, 3, 4, 5)\n",
      "(1, 2, 3, 4, 5)\n",
      "(1, 3, 5)\n",
      "(1, 2, 3, 4, 5)\n",
      "(1, 2, 3, 4, 5)\n",
      "(1, 2, 3, 4, 5)\n",
      "(5, 4, 3, 2, 1)\n"
     ]
    }
   ],
   "source": [
    "# declare \n",
    "tup1 = (1,2,3,4,5)\n",
    "print(tup1)\n",
    "print(type(tup1))\n",
    "print(id(tup1)) #Memory address of variable\n",
    "\n",
    "# Basic Linux Commands (Web Server, Data Server)\n",
    "# Display all the variable of python program.\n",
    "# Retrive value of specific memory location.\n",
    "\n",
    "# indexing\n",
    "import sys\n",
    "try:\n",
    "    print(tup1[0])\n",
    "    print(tup1[4])\n",
    "    #print(tup1[5]) # tuple index out of range\n",
    "    \n",
    "    print(tup1[-1])\n",
    "    print(tup1[-5])\n",
    "    #print(tup1[-6])\n",
    "    \n",
    "    # Slicing\n",
    "    print(tup1[0:5])\n",
    "    print(tup1[0:5:1])\n",
    "    print(tup1[0:5:2])\n",
    "    print(tup1[:5:1])\n",
    "    print(tup1[::1])\n",
    "    print(tup1[::])\n",
    "    print(tup1[::-1])\n",
    "except:\n",
    "    print(\"Error :\", sys.exc_info()[1])"
   ]
  },
  {
   "cell_type": "code",
   "execution_count": 20,
   "id": "infinite-assault",
   "metadata": {},
   "outputs": [
    {
     "name": "stdout",
     "output_type": "stream",
     "text": [
      "(1, 2, 3, 4, 5)\n",
      "<class 'tuple'>\n",
      "2461925508976\n",
      "False\n",
      "False\n",
      "False\n",
      "False\n",
      "False\n",
      "False\n",
      "True\n"
     ]
    }
   ],
   "source": [
    "# declare \n",
    "tup1 = (1,2,3,4,5)\n",
    "print(tup1)\n",
    "print(type(tup1))\n",
    "print(id(tup1))\n",
    "print(isinstance(tup1, bool))\n",
    "print(isinstance(tup1, int))\n",
    "print(isinstance(tup1, float))\n",
    "print(isinstance(tup1, complex))\n",
    "print(isinstance(tup1, str))\n",
    "print(isinstance(tup1, list))\n",
    "print(isinstance(tup1, tuple))"
   ]
  },
  {
   "cell_type": "code",
   "execution_count": null,
   "id": "mathematical-suite",
   "metadata": {},
   "outputs": [],
   "source": [
    "from text_to_speech import speak"
   ]
  },
  {
   "cell_type": "code",
   "execution_count": 1,
   "id": "normal-enforcement",
   "metadata": {},
   "outputs": [
    {
     "ename": "NameError",
     "evalue": "name 'speak' is not defined",
     "output_type": "error",
     "traceback": [
      "\u001b[1;31m---------------------------------------------------------------------------\u001b[0m",
      "\u001b[1;31mNameError\u001b[0m                                 Traceback (most recent call last)",
      "\u001b[1;32m<ipython-input-1-1374db3acf89>\u001b[0m in \u001b[0;36m<module>\u001b[1;34m\u001b[0m\n\u001b[1;32m----> 1\u001b[1;33m \u001b[0mspeak\u001b[0m\u001b[1;33m(\u001b[0m\u001b[1;34m\"Hello World\"\u001b[0m\u001b[1;33m,\u001b[0m \u001b[1;34m\"en\"\u001b[0m\u001b[1;33m,\u001b[0m \u001b[0msave\u001b[0m\u001b[1;33m=\u001b[0m\u001b[1;32mTrue\u001b[0m\u001b[1;33m,\u001b[0m \u001b[0mfile\u001b[0m\u001b[1;33m=\u001b[0m\u001b[1;34m\"Hello-World.mp3\"\u001b[0m\u001b[1;33m)\u001b[0m\u001b[1;33m\u001b[0m\u001b[1;33m\u001b[0m\u001b[0m\n\u001b[0m",
      "\u001b[1;31mNameError\u001b[0m: name 'speak' is not defined"
     ]
    }
   ],
   "source": [
    "speak(\"Hello World\", \"en\", save=True, file=\"Hello-World.mp3\")"
   ]
  },
  {
   "cell_type": "code",
   "execution_count": 4,
   "id": "infinite-newton",
   "metadata": {},
   "outputs": [
    {
     "name": "stdout",
     "output_type": "stream",
     "text": [
      "{2, 5, 6, 7, 8, 9}\n",
      "<class 'set'>\n",
      "6\n",
      "1137382735424\n",
      "9\n",
      "2\n",
      "False\n",
      "False\n",
      "False\n",
      "False\n",
      "False\n",
      "False\n",
      "False\n",
      "True\n",
      "[5, 6, 7, 8, 9]\n",
      "(5, 6, 7, 8, 9)\n",
      "{5, 6, 7, 8, 9}\n",
      "\n",
      "[3, 4, 5, 6, 7]\n",
      "(3, 4, 5, 6, 7)\n",
      "{3, 4, 5, 6, 7}\n"
     ]
    }
   ],
   "source": [
    "# set\n",
    "\n",
    "set1 = {5, 6, 7, 8, 9, 2}\n",
    "print(set1)\n",
    "print(type(set1))\n",
    "print(len(set1))\n",
    "print(id(set1))\n",
    "print(max(set1))\n",
    "print(min(set1))\n",
    "print(isinstance(set1, bool))\n",
    "print(isinstance(set1, int))\n",
    "print(isinstance(set1, float))\n",
    "print(isinstance(set1, complex))\n",
    "print(isinstance(set1, str))\n",
    "print(isinstance(set1, list))\n",
    "print(isinstance(set1, tuple))\n",
    "print(isinstance(set1, set))\n",
    "\n",
    "# type conversion\n",
    "list1 = [5,6,7,8,9] #list\n",
    "tup1 = tuple(list1) #list to tuple\n",
    "set1 = set(tup1) #tuple to set\n",
    "print(list1)\n",
    "print(tup1)\n",
    "print(set1)\n",
    "print()\n",
    "\n",
    "set2 ={3,4,5,6,7}\n",
    "tup2 = tuple(set2)\n",
    "list2= list(tup2)\n",
    "print(list2)\n",
    "print(tup2)\n",
    "print(set2)"
   ]
  },
  {
   "cell_type": "code",
   "execution_count": 7,
   "id": "decreased-platform",
   "metadata": {},
   "outputs": [
    {
     "name": "stdout",
     "output_type": "stream",
     "text": [
      "array('i', [3, 4, 5, 6, 7, 8])\n",
      "<class 'array.array'>\n",
      "6\n",
      "8\n",
      "3\n",
      "1137382079984\n"
     ]
    }
   ],
   "source": [
    "# Array\n",
    "from array import array\n",
    "\n",
    "array1 = array('i', [3,4,5,6,7,8])\n",
    "print(array1)\n",
    "print(type(array1))\n",
    "print(len(array1))\n",
    "print(max(array1))\n",
    "print(min(array1))\n",
    "print(id(array1))"
   ]
  },
  {
   "cell_type": "code",
   "execution_count": 6,
   "id": "common-governor",
   "metadata": {},
   "outputs": [
    {
     "name": "stdout",
     "output_type": "stream",
     "text": [
      "Help on class array in module array:\n",
      "\n",
      "class array(builtins.object)\n",
      " |  array(typecode [, initializer]) -> array\n",
      " |  \n",
      " |  Return a new array whose items are restricted by typecode, and\n",
      " |  initialized from the optional initializer value, which must be a list,\n",
      " |  string or iterable over elements of the appropriate type.\n",
      " |  \n",
      " |  Arrays represent basic values and behave very much like lists, except\n",
      " |  the type of objects stored in them is constrained. The type is specified\n",
      " |  at object creation time by using a type code, which is a single character.\n",
      " |  The following type codes are defined:\n",
      " |  \n",
      " |      Type code   C Type             Minimum size in bytes\n",
      " |      'b'         signed integer     1\n",
      " |      'B'         unsigned integer   1\n",
      " |      'u'         Unicode character  2 (see note)\n",
      " |      'h'         signed integer     2\n",
      " |      'H'         unsigned integer   2\n",
      " |      'i'         signed integer     2\n",
      " |      'I'         unsigned integer   2\n",
      " |      'l'         signed integer     4\n",
      " |      'L'         unsigned integer   4\n",
      " |      'q'         signed integer     8 (see note)\n",
      " |      'Q'         unsigned integer   8 (see note)\n",
      " |      'f'         floating point     4\n",
      " |      'd'         floating point     8\n",
      " |  \n",
      " |  NOTE: The 'u' typecode corresponds to Python's unicode character. On\n",
      " |  narrow builds this is 2-bytes on wide builds this is 4-bytes.\n",
      " |  \n",
      " |  NOTE: The 'q' and 'Q' type codes are only available if the platform\n",
      " |  C compiler used to build Python supports 'long long', or, on Windows,\n",
      " |  '__int64'.\n",
      " |  \n",
      " |  Methods:\n",
      " |  \n",
      " |  append() -- append a new item to the end of the array\n",
      " |  buffer_info() -- return information giving the current memory info\n",
      " |  byteswap() -- byteswap all the items of the array\n",
      " |  count() -- return number of occurrences of an object\n",
      " |  extend() -- extend array by appending multiple elements from an iterable\n",
      " |  fromfile() -- read items from a file object\n",
      " |  fromlist() -- append items from the list\n",
      " |  frombytes() -- append items from the string\n",
      " |  index() -- return index of first occurrence of an object\n",
      " |  insert() -- insert a new item into the array at a provided position\n",
      " |  pop() -- remove and return item (default last)\n",
      " |  remove() -- remove first occurrence of an object\n",
      " |  reverse() -- reverse the order of the items in the array\n",
      " |  tofile() -- write all items to a file object\n",
      " |  tolist() -- return the array converted to an ordinary list\n",
      " |  tobytes() -- return the array converted to a string\n",
      " |  \n",
      " |  Attributes:\n",
      " |  \n",
      " |  typecode -- the typecode character used to create the array\n",
      " |  itemsize -- the length in bytes of one array item\n",
      " |  \n",
      " |  Methods defined here:\n",
      " |  \n",
      " |  __add__(self, value, /)\n",
      " |      Return self+value.\n",
      " |  \n",
      " |  __contains__(self, key, /)\n",
      " |      Return key in self.\n",
      " |  \n",
      " |  __copy__(self, /)\n",
      " |      Return a copy of the array.\n",
      " |  \n",
      " |  __deepcopy__(self, unused, /)\n",
      " |      Return a copy of the array.\n",
      " |  \n",
      " |  __delitem__(self, key, /)\n",
      " |      Delete self[key].\n",
      " |  \n",
      " |  __eq__(self, value, /)\n",
      " |      Return self==value.\n",
      " |  \n",
      " |  __ge__(self, value, /)\n",
      " |      Return self>=value.\n",
      " |  \n",
      " |  __getattribute__(self, name, /)\n",
      " |      Return getattr(self, name).\n",
      " |  \n",
      " |  __getitem__(self, key, /)\n",
      " |      Return self[key].\n",
      " |  \n",
      " |  __gt__(self, value, /)\n",
      " |      Return self>value.\n",
      " |  \n",
      " |  __iadd__(self, value, /)\n",
      " |      Implement self+=value.\n",
      " |  \n",
      " |  __imul__(self, value, /)\n",
      " |      Implement self*=value.\n",
      " |  \n",
      " |  __iter__(self, /)\n",
      " |      Implement iter(self).\n",
      " |  \n",
      " |  __le__(self, value, /)\n",
      " |      Return self<=value.\n",
      " |  \n",
      " |  __len__(self, /)\n",
      " |      Return len(self).\n",
      " |  \n",
      " |  __lt__(self, value, /)\n",
      " |      Return self<value.\n",
      " |  \n",
      " |  __mul__(self, value, /)\n",
      " |      Return self*value.\n",
      " |  \n",
      " |  __ne__(self, value, /)\n",
      " |      Return self!=value.\n",
      " |  \n",
      " |  __reduce_ex__(self, value, /)\n",
      " |      Return state information for pickling.\n",
      " |  \n",
      " |  __repr__(self, /)\n",
      " |      Return repr(self).\n",
      " |  \n",
      " |  __rmul__(self, value, /)\n",
      " |      Return value*self.\n",
      " |  \n",
      " |  __setitem__(self, key, value, /)\n",
      " |      Set self[key] to value.\n",
      " |  \n",
      " |  __sizeof__(self, /)\n",
      " |      Size of the array in memory, in bytes.\n",
      " |  \n",
      " |  append(self, v, /)\n",
      " |      Append new value v to the end of the array.\n",
      " |  \n",
      " |  buffer_info(self, /)\n",
      " |      Return a tuple (address, length) giving the current memory address and the length in items of the buffer used to hold array's contents.\n",
      " |      \n",
      " |      The length should be multiplied by the itemsize attribute to calculate\n",
      " |      the buffer length in bytes.\n",
      " |  \n",
      " |  byteswap(self, /)\n",
      " |      Byteswap all items of the array.\n",
      " |      \n",
      " |      If the items in the array are not 1, 2, 4, or 8 bytes in size, RuntimeError is\n",
      " |      raised.\n",
      " |  \n",
      " |  count(self, v, /)\n",
      " |      Return number of occurrences of v in the array.\n",
      " |  \n",
      " |  extend(self, bb, /)\n",
      " |      Append items to the end of the array.\n",
      " |  \n",
      " |  frombytes(self, buffer, /)\n",
      " |      Appends items from the string, interpreting it as an array of machine values, as if it had been read from a file using the fromfile() method).\n",
      " |  \n",
      " |  fromfile(self, f, n, /)\n",
      " |      Read n objects from the file object f and append them to the end of the array.\n",
      " |  \n",
      " |  fromlist(self, list, /)\n",
      " |      Append items to array from list.\n",
      " |  \n",
      " |  fromstring(self, buffer, /)\n",
      " |      Appends items from the string, interpreting it as an array of machine values, as if it had been read from a file using the fromfile() method).\n",
      " |      \n",
      " |      This method is deprecated. Use frombytes instead.\n",
      " |  \n",
      " |  fromunicode(self, ustr, /)\n",
      " |      Extends this array with data from the unicode string ustr.\n",
      " |      \n",
      " |      The array must be a unicode type array; otherwise a ValueError is raised.\n",
      " |      Use array.frombytes(ustr.encode(...)) to append Unicode data to an array of\n",
      " |      some other type.\n",
      " |  \n",
      " |  index(self, v, /)\n",
      " |      Return index of first occurrence of v in the array.\n",
      " |  \n",
      " |  insert(self, i, v, /)\n",
      " |      Insert a new item v into the array before position i.\n",
      " |  \n",
      " |  pop(self, i=-1, /)\n",
      " |      Return the i-th element and delete it from the array.\n",
      " |      \n",
      " |      i defaults to -1.\n",
      " |  \n",
      " |  remove(self, v, /)\n",
      " |      Remove the first occurrence of v in the array.\n",
      " |  \n",
      " |  reverse(self, /)\n",
      " |      Reverse the order of the items in the array.\n",
      " |  \n",
      " |  tobytes(self, /)\n",
      " |      Convert the array to an array of machine values and return the bytes representation.\n",
      " |  \n",
      " |  tofile(self, f, /)\n",
      " |      Write all items (as machine values) to the file object f.\n",
      " |  \n",
      " |  tolist(self, /)\n",
      " |      Convert array to an ordinary list with the same items.\n",
      " |  \n",
      " |  tostring(self, /)\n",
      " |      Convert the array to an array of machine values and return the bytes representation.\n",
      " |      \n",
      " |      This method is deprecated. Use tobytes instead.\n",
      " |  \n",
      " |  tounicode(self, /)\n",
      " |      Extends this array with data from the unicode string ustr.\n",
      " |      \n",
      " |      Convert the array to a unicode string.  The array must be a unicode type array;\n",
      " |      otherwise a ValueError is raised.  Use array.tobytes().decode() to obtain a\n",
      " |      unicode string from an array of some other type.\n",
      " |  \n",
      " |  ----------------------------------------------------------------------\n",
      " |  Static methods defined here:\n",
      " |  \n",
      " |  __new__(*args, **kwargs) from builtins.type\n",
      " |      Create and return a new object.  See help(type) for accurate signature.\n",
      " |  \n",
      " |  ----------------------------------------------------------------------\n",
      " |  Data descriptors defined here:\n",
      " |  \n",
      " |  itemsize\n",
      " |      the size, in bytes, of one array item\n",
      " |  \n",
      " |  typecode\n",
      " |      the typecode character used to create the array\n",
      " |  \n",
      " |  ----------------------------------------------------------------------\n",
      " |  Data and other attributes defined here:\n",
      " |  \n",
      " |  __hash__ = None\n",
      "\n"
     ]
    }
   ],
   "source": [
    "help(array)"
   ]
  },
  {
   "cell_type": "code",
   "execution_count": 8,
   "id": "sensitive-invalid",
   "metadata": {},
   "outputs": [],
   "source": [
    "# All in one\n",
    "list1 = [True, False, 1, 2.34, 456+789j, \"Kathmandu\"]\n",
    "list2 = [4, 6, 7, list1]\n",
    "\n",
    "tup1 = (True, False, 1, 2.34, 456+789j, \"kathmandu\")\n",
    "tup2 = (5,6,7,tup1)\n",
    "\n",
    "#set0 = {list1 , list2} # not supported type\n",
    "set1 = {tup1 , tup2 , 6,7,8,9}\n",
    "\n",
    "array1 = array('i',[6,7,8,9,8,8])"
   ]
  },
  {
   "cell_type": "code",
   "execution_count": 9,
   "id": "equal-description",
   "metadata": {},
   "outputs": [],
   "source": [
    "# Exception Handling\n",
    "try:\n",
    "    pass\n",
    "    # declare\n",
    "    # input\n",
    "    # process\n",
    "    # output\n",
    "except:\n",
    "    pass\n",
    "    # print error message"
   ]
  },
  {
   "cell_type": "code",
   "execution_count": 10,
   "id": "moral-marking",
   "metadata": {},
   "outputs": [],
   "source": [
    "# Dictionary - JSON"
   ]
  },
  {
   "cell_type": "code",
   "execution_count": 17,
   "id": "looking-machine",
   "metadata": {},
   "outputs": [
    {
     "name": "stdout",
     "output_type": "stream",
     "text": [
      "<class 'dict'>\n",
      "{'id': 1, 'fullname': 'Aanshu Dwiwedi', 'contactaddress': 'ktm'}\n",
      "dict_keys(['id', 'fullname', 'contactaddress'])\n",
      "dict_values([1, 'Aanshu Dwiwedi', 'ktm'])\n",
      "dict_items([('id', 1), ('fullname', 'Aanshu Dwiwedi'), ('contactaddress', 'ktm')])\n",
      "\n",
      "1\n",
      "Aanshu Dwiwedi\n",
      "ktm\n"
     ]
    }
   ],
   "source": [
    "dict1 = {'id':1, 'fullname':'Aanshu Dwiwedi', 'contactaddress':'ktm'}\n",
    "print(type(dict1))\n",
    "print(dict1)\n",
    "\n",
    "print(dict1.keys())\n",
    "print(dict1.values())\n",
    "print(dict1.items())\n",
    "print()\n",
    "print(dict1['id'])\n",
    "print(dict1['fullname'])\n",
    "print(dict1['contactaddress'])"
   ]
  },
  {
   "cell_type": "markdown",
   "id": "selective-harvey",
   "metadata": {},
   "source": [
    "## Operators\n",
    "\n",
    "* Character set - 256 characters\n",
    "    * Value\n",
    "    * Instructions / Command - Operators\n"
   ]
  },
  {
   "cell_type": "markdown",
   "id": "sharp-madrid",
   "metadata": {},
   "source": [
    "### Arithmetic Operators"
   ]
  },
  {
   "cell_type": "markdown",
   "id": "supreme-beauty",
   "metadata": {},
   "source": [
    "### + : Add\n",
    "### - : Sub\n",
    "### * : Prd\n",
    "### / : Div\n",
    "### // : Div\n",
    "### % :Mod\n",
    "### ** : Power\n",
    "\n",
    "# NOTE\n",
    "    #sqrt()\n",
    "    #pow()"
   ]
  },
  {
   "cell_type": "code",
   "execution_count": 9,
   "id": "graphic-arena",
   "metadata": {},
   "outputs": [
    {
     "name": "stdout",
     "output_type": "stream",
     "text": [
      "8\n",
      "-2\n",
      "15\n",
      "0.6\n",
      "0\n",
      "3\n",
      "243\n",
      "\n",
      "1000.0\n",
      "5.0\n",
      "ABCBBC\n",
      "ABCBBC\n"
     ]
    }
   ],
   "source": [
    "num1 = 3\n",
    "num2 = 5\n",
    "num3 = num1+num2\n",
    "print(num3)\n",
    "\n",
    "num3 = num1-num2\n",
    "print(num3)\n",
    "\n",
    "num3 = num1 * num2\n",
    "print(num3)\n",
    "\n",
    "num3 = num1 /num2 \n",
    "print(num3)\n",
    "\n",
    "num3 = num1//num2 \n",
    "print(num3)\n",
    "\n",
    "num3 = num1 % num2 \n",
    "print(num3)\n",
    "\n",
    "num3 = num1**num2 \n",
    "print(num3)\n",
    "print()\n",
    "\n",
    "import math\n",
    "print(math.pow(10,3))\n",
    "print(math.sqrt(25))\n",
    "\n",
    "num1 = \"ABC\"\n",
    "num2 = \"BBC\"\n",
    "num3 = num1+num2\n",
    "print(num3)\n",
    "\n",
    "#num3 = num1-num2\n",
    "#print(num3)\n",
    "\n",
    "#num3 = num1 * num2\n",
    "#print(num3)\n",
    "\n",
    "#num3 = num1 /num2 \n",
    "print(num3)\n",
    "\n",
    "#num3 = num1//num2 \n",
    "#print(num3)\n",
    "\n",
    "#num3 = num1 % num2 \n",
    "#print(num3)\n",
    "\n",
    "##num3 = num1**num2 \n",
    "##print(num3)"
   ]
  },
  {
   "cell_type": "markdown",
   "id": "changed-illinois",
   "metadata": {},
   "source": [
    "## Comparision/Relational Operator\n",
    "* Compares two values and return boolean result(i.e True/False)"
   ]
  },
  {
   "cell_type": "code",
   "execution_count": 23,
   "id": "contrary-perception",
   "metadata": {},
   "outputs": [
    {
     "name": "stdout",
     "output_type": "stream",
     "text": [
      "False\n",
      "True\n",
      "True\n",
      "False\n",
      "False\n",
      "True\n"
     ]
    }
   ],
   "source": [
    "num1 = 10\n",
    "num2 = 5\n",
    "# Equals to - Compare left value with right value\n",
    "result = (num1 == num2)\n",
    "print(result)\n",
    "\n",
    "# Not equals to - Compare left value with right value\n",
    "result = (num1 != num2)\n",
    "print(result)\n",
    "\n",
    "# Greater than - Compare left value with right value\n",
    "result = (num1 > num2)\n",
    "print(result)\n",
    "\n",
    "# Less than - Compare left value with right value\n",
    "result = (num1 < num2)\n",
    "print(result)\n",
    "\n",
    "num1 = 3\n",
    "num2 = 5\n",
    "# Greater than or equals to - Compare left value with right value\n",
    "result = (num1 >= num2)\n",
    "print(result)\n",
    "\n",
    "# Less than or equals to - Compare left value with right value\n",
    "result = (num1 <= num2)\n",
    "print(result)"
   ]
  },
  {
   "cell_type": "code",
   "execution_count": 25,
   "id": "european-victim",
   "metadata": {},
   "outputs": [
    {
     "name": "stdout",
     "output_type": "stream",
     "text": [
      "False\n",
      "True\n",
      "False\n",
      "True\n",
      "False\n",
      "True\n"
     ]
    }
   ],
   "source": [
    "num1 = \"ABC\"\n",
    "num2 = \"BBE\"\n",
    "# Equals to - Compare left value with right value\n",
    "result = (num1 == num2)\n",
    "print(result)\n",
    "\n",
    "# Not equals to - Compare left value with right value\n",
    "result = (num1 != num2)\n",
    "print(result)\n",
    "\n",
    "# Greater than - Compare left value with right value\n",
    "result = (num1 > num2)\n",
    "print(result)\n",
    "\n",
    "# Less than - Compare left value with right value\n",
    "result = (num1 < num2)\n",
    "print(result)\n",
    "\n",
    "# Greater than or equals to - Compare left value with right value\n",
    "result = (num1 >= num2)\n",
    "print(result)\n",
    "\n",
    "# Less than or equals to - Compare left value with right value\n",
    "result = (num1 <= num2)\n",
    "print(result)"
   ]
  },
  {
   "cell_type": "markdown",
   "id": "decreased-booth",
   "metadata": {},
   "source": [
    "### Assignment Operator =\n",
    "    * variable = value - Simple Assignment\n",
    "    * variable = variable = value - Multiple Assignment\n",
    "    * variable += value- Short-hand Assignment"
   ]
  },
  {
   "cell_type": "code",
   "execution_count": 26,
   "id": "nasty-winner",
   "metadata": {},
   "outputs": [
    {
     "name": "stdout",
     "output_type": "stream",
     "text": [
      "30\n",
      "100 100 100\n",
      "99\n"
     ]
    }
   ],
   "source": [
    "num1 = 30\n",
    "print(num1)\n",
    "\n",
    "num1 = num2 = num3 = 100\n",
    "print(num1, num2, num3)\n",
    "\n",
    "num1 = 89\n",
    "num1+=10 #num1 = num1 +10\n",
    "print(num1)"
   ]
  },
  {
   "cell_type": "markdown",
   "id": "cross-prairie",
   "metadata": {},
   "source": [
    "## Logical Operators\n",
    "    * AND, OR , NOT\n",
    "    * Condition and Conditions?"
   ]
  },
  {
   "cell_type": "code",
   "execution_count": 29,
   "id": "social-teaching",
   "metadata": {},
   "outputs": [
    {
     "name": "stdout",
     "output_type": "stream",
     "text": [
      "True\n",
      "True\n",
      "False\n"
     ]
    }
   ],
   "source": [
    "num1 = 5\n",
    "num2 = 4\n",
    "num3 = 3\n",
    "\n",
    "result = (num1>num2) or (num1>num3)\n",
    "print(result)\n",
    "\n",
    "result = (num1>num2) and (num1>num3)\n",
    "print(result)\n",
    "\n",
    "print(not result)"
   ]
  },
  {
   "cell_type": "code",
   "execution_count": 31,
   "id": "noble-leeds",
   "metadata": {},
   "outputs": [
    {
     "name": "stdout",
     "output_type": "stream",
     "text": [
      "True\n",
      "True\n"
     ]
    }
   ],
   "source": [
    "## in , not in\n",
    "list1 = [7, 4, 5, 6, 8, 2]\n",
    "print(5 in list1)\n",
    "\n",
    "print(10 not in list1)"
   ]
  },
  {
   "cell_type": "markdown",
   "id": "enormous-costa",
   "metadata": {},
   "source": [
    "# Others () [] {} . "
   ]
  },
  {
   "cell_type": "code",
   "execution_count": null,
   "id": "respiratory-builder",
   "metadata": {},
   "outputs": [],
   "source": []
  }
 ],
 "metadata": {
  "kernelspec": {
   "display_name": "Python 3",
   "language": "python",
   "name": "python3"
  },
  "language_info": {
   "codemirror_mode": {
    "name": "ipython",
    "version": 3
   },
   "file_extension": ".py",
   "mimetype": "text/x-python",
   "name": "python",
   "nbconvert_exporter": "python",
   "pygments_lexer": "ipython3",
   "version": "3.8.8"
  }
 },
 "nbformat": 4,
 "nbformat_minor": 5
}
